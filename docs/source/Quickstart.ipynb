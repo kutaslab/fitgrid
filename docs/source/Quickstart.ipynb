{
 "cells": [
  {
   "cell_type": "markdown",
   "metadata": {},
   "source": [
    "# Quick start"
   ]
  },
  {
   "cell_type": "markdown",
   "metadata": {},
   "source": [
    "The `fitgrid` data modeling workflow consists of 4 steps:\n",
    "\n",
    "1. Prepare your dataset as a `pandas.DataFrame`\n",
    "2. Load your dataset into fitgrid, which creates `Epochs`.\n",
    "3. Run a model on the `Epochs`, which creates a `FitGrid`.\n",
    "4. Query the `FitGrid` for the estimates and diagnostic information\n",
    "\n",
    "The commands below are in Python and are executed in Jupyter, but any Python environment will work. We recommend Jupyter Lab, Jupyter Notebook, or IPython."
   ]
  },
  {
   "cell_type": "code",
   "execution_count": 1,
   "metadata": {},
   "outputs": [],
   "source": [
    "import fitgrid"
   ]
  },
  {
   "cell_type": "markdown",
   "metadata": {},
   "source": [
    "## 1. Prepare your dataset\n",
    "\n",
    "`fitgrid` assumes you are modeling \"epochs\", i.e., fixed-length segments of time-stamped data streams (\"channels\").\n",
    "\n",
    "Prepare your dataset as a `pandas.DataFrame` layed out in a long rows x narrow columns format with the response and predictor variables as the named columns and the data values (\"observations\") in rows.\n",
    "\n",
    "Besides the response and predictor columns, two additional index columns that give the epoch identifier and time stamp of each observation (see the examples below).\n",
    "\n",
    "\n",
    "### Dataset Format\n",
    "\n",
    "- column names can be chosen freely\n",
    "\n",
    "- all epochs must exactly the same time stamps\n",
    "\n",
    "- each epoch must have a unique identifier in the dataset, no duplicates are allowed\n",
    "\n",
    "\n",
    "### 1.2 Example\n",
    "\n",
    "Here is a toy dataset, `my_data`.\n",
    "\n",
    "There are two predictor variable columns and two response variable columns.\n",
    "\n",
    "There are 4 epochs:\n",
    "    * each has a unique identifier, one of `1, 2, 3, 4`\n",
    "    * all have the same 3 time stamps `0, 100, 200`\n"
   ]
  },
  {
   "cell_type": "code",
   "execution_count": 2,
   "metadata": {},
   "outputs": [
    {
     "data": {
      "text/html": [
       "<div>\n",
       "<style scoped>\n",
       "    .dataframe tbody tr th:only-of-type {\n",
       "        vertical-align: middle;\n",
       "    }\n",
       "\n",
       "    .dataframe tbody tr th {\n",
       "        vertical-align: top;\n",
       "    }\n",
       "\n",
       "    .dataframe thead th {\n",
       "        text-align: right;\n",
       "    }\n",
       "</style>\n",
       "<table border=\"1\" class=\"dataframe\">\n",
       "  <thead>\n",
       "    <tr style=\"text-align: right;\">\n",
       "      <th></th>\n",
       "      <th></th>\n",
       "      <th>predictor_x1</th>\n",
       "      <th>predictor_x2</th>\n",
       "      <th>data_y1</th>\n",
       "      <th>data_y2</th>\n",
       "    </tr>\n",
       "    <tr>\n",
       "      <th>epochs</th>\n",
       "      <th>times</th>\n",
       "      <th></th>\n",
       "      <th></th>\n",
       "      <th></th>\n",
       "      <th></th>\n",
       "    </tr>\n",
       "  </thead>\n",
       "  <tbody>\n",
       "    <tr>\n",
       "      <th rowspan=\"3\" valign=\"top\">1</th>\n",
       "      <th>0</th>\n",
       "      <td>0.484871</td>\n",
       "      <td>a</td>\n",
       "      <td>0.094379</td>\n",
       "      <td>0.812954</td>\n",
       "    </tr>\n",
       "    <tr>\n",
       "      <th>100</th>\n",
       "      <td>0.970399</td>\n",
       "      <td>a</td>\n",
       "      <td>0.713902</td>\n",
       "      <td>0.447617</td>\n",
       "    </tr>\n",
       "    <tr>\n",
       "      <th>200</th>\n",
       "      <td>0.425820</td>\n",
       "      <td>a</td>\n",
       "      <td>0.787637</td>\n",
       "      <td>0.503503</td>\n",
       "    </tr>\n",
       "    <tr>\n",
       "      <th rowspan=\"3\" valign=\"top\">2</th>\n",
       "      <th>0</th>\n",
       "      <td>0.071507</td>\n",
       "      <td>b</td>\n",
       "      <td>0.030460</td>\n",
       "      <td>0.438876</td>\n",
       "    </tr>\n",
       "    <tr>\n",
       "      <th>100</th>\n",
       "      <td>0.548807</td>\n",
       "      <td>b</td>\n",
       "      <td>0.836818</td>\n",
       "      <td>0.105475</td>\n",
       "    </tr>\n",
       "    <tr>\n",
       "      <th>200</th>\n",
       "      <td>0.471725</td>\n",
       "      <td>b</td>\n",
       "      <td>0.261262</td>\n",
       "      <td>0.857289</td>\n",
       "    </tr>\n",
       "    <tr>\n",
       "      <th rowspan=\"3\" valign=\"top\">3</th>\n",
       "      <th>0</th>\n",
       "      <td>0.893282</td>\n",
       "      <td>a</td>\n",
       "      <td>0.989750</td>\n",
       "      <td>0.547980</td>\n",
       "    </tr>\n",
       "    <tr>\n",
       "      <th>100</th>\n",
       "      <td>0.797527</td>\n",
       "      <td>a</td>\n",
       "      <td>0.346154</td>\n",
       "      <td>0.102748</td>\n",
       "    </tr>\n",
       "    <tr>\n",
       "      <th>200</th>\n",
       "      <td>0.800388</td>\n",
       "      <td>a</td>\n",
       "      <td>0.243537</td>\n",
       "      <td>0.121599</td>\n",
       "    </tr>\n",
       "    <tr>\n",
       "      <th rowspan=\"3\" valign=\"top\">4</th>\n",
       "      <th>0</th>\n",
       "      <td>0.000189</td>\n",
       "      <td>b</td>\n",
       "      <td>0.219465</td>\n",
       "      <td>0.727331</td>\n",
       "    </tr>\n",
       "    <tr>\n",
       "      <th>100</th>\n",
       "      <td>0.534327</td>\n",
       "      <td>b</td>\n",
       "      <td>0.597590</td>\n",
       "      <td>0.819707</td>\n",
       "    </tr>\n",
       "    <tr>\n",
       "      <th>200</th>\n",
       "      <td>0.585838</td>\n",
       "      <td>b</td>\n",
       "      <td>0.223957</td>\n",
       "      <td>0.037704</td>\n",
       "    </tr>\n",
       "  </tbody>\n",
       "</table>\n",
       "</div>"
      ],
      "text/plain": [
       "              predictor_x1 predictor_x2   data_y1   data_y2\n",
       "epochs times                                               \n",
       "1      0          0.484871            a  0.094379  0.812954\n",
       "       100        0.970399            a  0.713902  0.447617\n",
       "       200        0.425820            a  0.787637  0.503503\n",
       "2      0          0.071507            b  0.030460  0.438876\n",
       "       100        0.548807            b  0.836818  0.105475\n",
       "       200        0.471725            b  0.261262  0.857289\n",
       "3      0          0.893282            a  0.989750  0.547980\n",
       "       100        0.797527            a  0.346154  0.102748\n",
       "       200        0.800388            a  0.243537  0.121599\n",
       "4      0          0.000189            b  0.219465  0.727331\n",
       "       100        0.534327            b  0.597590  0.819707\n",
       "       200        0.585838            b  0.223957  0.037704"
      ]
     },
     "execution_count": 2,
     "metadata": {},
     "output_type": "execute_result"
    }
   ],
   "source": [
    "import numpy as np\n",
    "import pandas as pd\n",
    "n_timestamps = 3\n",
    "\n",
    "categorical_factor = [\"a\", \"b\"]\n",
    "n_each = 2  \n",
    "n_epochs = len(categorical_factor) * n_each\n",
    "\n",
    "my_data = pd.DataFrame(\n",
    "    {\n",
    "        'epochs': 1 + np.repeat(range(n_epochs), n_timestamps),\n",
    "        'times': 100 * np.tile(range(n_timestamps), n_epochs),\n",
    "        'predictor_x1': np.random.random(n_timestamps * n_epochs),\n",
    "        'predictor_x2': np.tile(\n",
    "            np.repeat(categorical_factor, n_timestamps), n_each\n",
    "        ),\n",
    "        'data_y1': np.random.random(n_timestamps * n_epochs),\n",
    "        'data_y2': np.random.random(n_timestamps * n_epochs),\n",
    "    }\n",
    ")\n",
    "\n",
    "# this index is required!\n",
    "my_data.set_index(['epochs', 'times'], inplace=True)\n",
    "my_data"
   ]
  },
  {
   "cell_type": "markdown",
   "metadata": {},
   "source": [
    "## 2. Load your dataset into fitgrid\n",
    "\n",
    "`fitgrid` can load your dataframe directly from the Python workspace or from a file.\n",
    "\n",
    "Either way, you need to tell `fitgrid`:\n",
    "\n",
    "1. which index column is the epoch identifier\n",
    "2. which index column is the time identifier\n",
    "3. which columns are the response variable(s) to model"
   ]
  },
  {
   "cell_type": "markdown",
   "metadata": {},
   "source": [
    "### 2.1 Example: Load a dataset from the Python workspace"
   ]
  },
  {
   "cell_type": "code",
   "execution_count": 3,
   "metadata": {},
   "outputs": [],
   "source": [
    "# feed the toy dataset to fitgrid\n",
    "epochs_fg = fitgrid.epochs_from_dataframe(\n",
    "    my_data,\n",
    "    time='times',\n",
    "    epoch_id='epochs',\n",
    "    channels=['data_y1', 'data_y2']\n",
    ")"
   ]
  },
  {
   "cell_type": "markdown",
   "metadata": {},
   "source": [
    "Now you have a fitgrid epochs table"
   ]
  },
  {
   "cell_type": "code",
   "execution_count": 4,
   "metadata": {},
   "outputs": [
    {
     "data": {
      "text/plain": [
       "<fitgrid.epochs.Epochs at 0x7fa9bf84ce10>"
      ]
     },
     "execution_count": 4,
     "metadata": {},
     "output_type": "execute_result"
    }
   ],
   "source": [
    "epochs_fg"
   ]
  },
  {
   "cell_type": "markdown",
   "metadata": {},
   "source": [
    "### 2.2 Load a dataset from an HDF5 file\n",
    "\n",
    "The file `example.h5` was saved with `pandas.to_hdf()`. \n",
    "\n",
    "It contains a toy dataset with 20 epochs and 100 timestamps that looks like this:\n",
    "\n",
    "|   Epoch_idx  | Time  | continuous | categorical   | channel0   | channel1   |\n",
    "|--------------|-------|------------|---------------|------------|------------|\n",
    "|          0   |  0    | 0.439425   |     cat0      | -13.332813 |  24.074655 |\n",
    "|          0   |  1    | 0.028030   |     cat0      | -16.005318 |  23.879106 |\n",
    "|          0   |  2    | 0.484779   |     cat0      |  21.309482 |  13.479029 |\n",
    "|          0   |  3    | 0.008352   |     cat0      | -39.315872 |  46.974077 |\n",
    "|          0   |  4    | 0.597296   |     cat0      |  34.399671 |  -3.740801 |\n",
    "|          .   |  .    |    .       |      .        |      .     |      .     |\n",
    "|          .   |  .    |    .       |      .        |      .     |      .     |\n",
    "|          .   |  .    |    .       |      .        |      .     |      .     |\n",
    "|         19   | 95    | 0.611419   |     cat1      |   6.877276 |  -3.882082 |\n",
    "|         19   | 96    | 0.728147   |     cat1      | -38.291487 |   1.024060 |\n",
    "|         19   | 97    | 0.605416   |     cat1      |   4.123766 |  56.674669 |\n",
    "|         19   | 98    | 0.199554   |     cat1      | -45.001713 | -18.420173 |\n",
    "|         19   | 99    | 0.008011   |     cat1      | -30.901878 |  35.481089 |\n"
   ]
  },
  {
   "cell_type": "markdown",
   "metadata": {},
   "source": [
    "To load this dataset directly, run:"
   ]
  },
  {
   "cell_type": "code",
   "execution_count": 5,
   "metadata": {},
   "outputs": [],
   "source": [
    "epochs_fg = fitgrid.epochs_from_hdf(\n",
    "    filename='example.h5',\n",
    "    key=None,\n",
    "    time='Time',\n",
    "    epoch_id='Epoch_idx',\n",
    "    channels=['channel0', 'channel1']\n",
    ")"
   ]
  },
  {
   "cell_type": "markdown",
   "metadata": {},
   "source": [
    "This also creates an epochs object"
   ]
  },
  {
   "cell_type": "code",
   "execution_count": 6,
   "metadata": {},
   "outputs": [
    {
     "data": {
      "text/plain": [
       "<fitgrid.epochs.Epochs at 0x7fa9a673fdd8>"
      ]
     },
     "execution_count": 6,
     "metadata": {},
     "output_type": "execute_result"
    }
   ],
   "source": [
    "epochs_fg"
   ]
  },
  {
   "cell_type": "markdown",
   "metadata": {},
   "source": [
    "### 2.3 Load a dataset from a feather format file\n",
    "\n",
    "See `fitgrid` Reference\n"
   ]
  },
  {
   "cell_type": "markdown",
   "metadata": {},
   "source": [
    "## 3. Run a model\n",
    "\n",
    "Once the epochs are loaded, `fitgrid` fits a model (formula) at each time point and channel and captures the results in 2-D grid (time x channels).\n",
    "\n",
    "Each cell in the grid has the model fit information for that time point and channel, such as estimated betas and diagnostic information like $R^2$ and Cook's $D$ in the case of linear regression.\n",
    "\n",
    "Model formulas are the same ones used by `lme4:lmer` in `R` and `patsy` for `statsmodels` in `Python`\n",
    "\n",
    "As of now, linear regression (via ``statsmodels``' ``ols``) and linear mixed\n",
    "models (via ``lme4``'s ``lmer``) are available. \n",
    "\n",
    "Running a model on the epochs creates a `FitGrid` object, \n",
    "\n",
    "### 3.1 Ordinary least squares\n",
    "\n",
    "To run linear regression on the epochs, use the `lm` function. This calls `statsmodels.ols` under the hood."
   ]
  },
  {
   "cell_type": "code",
   "execution_count": 7,
   "metadata": {},
   "outputs": [
    {
     "name": "stderr",
     "output_type": "stream",
     "text": [
      "100%|██████████| 100/100 [00:01<00:00, 54.45it/s]\n"
     ]
    }
   ],
   "source": [
    "lm_grid = fitgrid.lm(\n",
    "    epochs_fg,\n",
    "    RHS='continuous + categorical'\n",
    ")"
   ]
  },
  {
   "cell_type": "markdown",
   "metadata": {},
   "source": [
    "`fitgrid.lm` runs linear regression for each channel, with a single channel\n",
    "data as the left hand side, and the right hand side given by the Patsy/R style\n",
    "formula passed in using the `RHS` parameter:\n",
    "\n",
    "    channel0 ~ continuous + categorical\n",
    "    channel1 ~ continuous + categorical\n",
    "    ...\n",
    "    channel31 ~ continuous + categorical"
   ]
  },
  {
   "cell_type": "markdown",
   "metadata": {},
   "source": [
    "If you want to model only a specific subset of channels, pass the list of channels to the `LHS` parameter.\n",
    "\n",
    "```python\n",
    "lm_grid = fitgrid.lm(\n",
    "    epochs_fg,\n",
    "    LHS=['channel1', 'channel3', 'channel5'],\n",
    "    RHS='continuous + categorical'\n",
    ")\n",
    "```"
   ]
  },
  {
   "cell_type": "markdown",
   "metadata": {},
   "source": [
    "### 3.2 linear mixed effects"
   ]
  },
  {
   "cell_type": "markdown",
   "metadata": {},
   "source": [
    "Similarly, to model linear mixed effects use the `lmer` function. This calls `lme4::lmer()` under the hood."
   ]
  },
  {
   "cell_type": "code",
   "execution_count": 8,
   "metadata": {},
   "outputs": [
    {
     "name": "stderr",
     "output_type": "stream",
     "text": [
      "  0%|          | 0/100 [00:00<?, ?it/s]/home/turbach/.conda/envs/fitgrid_dev/lib/python3.6/site-packages/rpy2/robjects/pandas2ri.py:191: FutureWarning: from_items is deprecated. Please use DataFrame.from_dict(dict(items), ...) instead. DataFrame.from_dict(OrderedDict(items)) may be used to preserve the key order.\n",
      "  res = PandasDataFrame.from_items(items)\n",
      "100%|██████████| 100/100 [02:16<00:00,  1.27s/it]"
     ]
    },
    {
     "name": "stdout",
     "output_type": "stream",
     "text": [
      "CPU times: user 2min 12s, sys: 3.87 s, total: 2min 16s\n",
      "Wall time: 2min 16s\n"
     ]
    },
    {
     "name": "stderr",
     "output_type": "stream",
     "text": [
      "\n"
     ]
    }
   ],
   "source": [
    "%%time\n",
    "\n",
    "lmer_grid = fitgrid.lmer(\n",
    "    epochs_fg,\n",
    "    RHS='continuous + (continuous | categorical)'\n",
    ")"
   ]
  },
  {
   "cell_type": "markdown",
   "metadata": {},
   "source": [
    "### 3.3 Multicore parallel processing\n",
    "\n",
    "With lmer especially, it may be useful to run your model with multiple\n",
    "processes to speed it up.\n",
    "\n",
    "This can be achieved by setting ``parallel`` to\n",
    "``True`` and ``n_cores`` to the desired value (defaults to 4) as follows.\n",
    "\n",
    "The performance benefits depend on your hardware. A laptop usually has 4 cores, a good workstation may have 8, a high performance server may have dozens. If working on a shared system it is rude (and unproductive) to hog cores."
   ]
  },
  {
   "cell_type": "code",
   "execution_count": 9,
   "metadata": {},
   "outputs": [
    {
     "name": "stderr",
     "output_type": "stream",
     "text": [
      "100%|██████████| 100/100 [00:00<00:00, 542.21it/s]\n",
      "/home/turbach/.conda/envs/fitgrid_dev/lib/python3.6/site-packages/rpy2/robjects/pandas2ri.py:191: FutureWarning: from_items is deprecated. Please use DataFrame.from_dict(dict(items), ...) instead. DataFrame.from_dict(OrderedDict(items)) may be used to preserve the key order.\n",
      "  res = PandasDataFrame.from_items(items)\n",
      "/home/turbach/.conda/envs/fitgrid_dev/lib/python3.6/site-packages/rpy2/robjects/pandas2ri.py:191: FutureWarning: from_items is deprecated. Please use DataFrame.from_dict(dict(items), ...) instead. DataFrame.from_dict(OrderedDict(items)) may be used to preserve the key order.\n",
      "  res = PandasDataFrame.from_items(items)\n",
      "/home/turbach/.conda/envs/fitgrid_dev/lib/python3.6/site-packages/rpy2/robjects/pandas2ri.py:191: FutureWarning: from_items is deprecated. Please use DataFrame.from_dict(dict(items), ...) instead. DataFrame.from_dict(OrderedDict(items)) may be used to preserve the key order.\n",
      "  res = PandasDataFrame.from_items(items)\n",
      "/home/turbach/.conda/envs/fitgrid_dev/lib/python3.6/site-packages/rpy2/robjects/pandas2ri.py:191: FutureWarning: from_items is deprecated. Please use DataFrame.from_dict(dict(items), ...) instead. DataFrame.from_dict(OrderedDict(items)) may be used to preserve the key order.\n",
      "  res = PandasDataFrame.from_items(items)\n"
     ]
    },
    {
     "name": "stdout",
     "output_type": "stream",
     "text": [
      "CPU times: user 675 ms, sys: 128 ms, total: 803 ms\n",
      "Wall time: 38.7 s\n"
     ]
    }
   ],
   "source": [
    "%%time\n",
    "\n",
    "lmer_grid = fitgrid.lmer(\n",
    "    epochs_fg,\n",
    "    RHS='continuous + (continuous | categorical)', \n",
    "    parallel=True,\n",
    "    n_cores=4)"
   ]
  },
  {
   "cell_type": "markdown",
   "metadata": {},
   "source": [
    "## 4. Working with the grid\n",
    "\n",
    "\n",
    "``FitGrid`` objects, like `lm_grid` or `lmer_grid` above, can be queried for attributes just like a\n",
    "``fit`` object returned by ``statsmodels`` or ``lmer`` (see Overview Doing Statistics in Python for more\n",
    "background), for example:\n",
    "\n",
    "**Hint**: If you are using an interactive environment like Jupyter Notebook or IPython,\n",
    "  you can use tab completion to see what attributes are available:\n",
    "\n",
    "```python\n",
    "# type 'lm_grid.' and press Tab\n",
    "lm_grid.<TAB>\n",
    "```"
   ]
  },
  {
   "cell_type": "markdown",
   "metadata": {},
   "source": [
    "### 4.1 Examples\n",
    "\n",
    "#### Beta estimates"
   ]
  },
  {
   "cell_type": "code",
   "execution_count": 10,
   "metadata": {},
   "outputs": [
    {
     "data": {
      "text/html": [
       "<div>\n",
       "<style scoped>\n",
       "    .dataframe tbody tr th:only-of-type {\n",
       "        vertical-align: middle;\n",
       "    }\n",
       "\n",
       "    .dataframe tbody tr th {\n",
       "        vertical-align: top;\n",
       "    }\n",
       "\n",
       "    .dataframe thead th {\n",
       "        text-align: right;\n",
       "    }\n",
       "</style>\n",
       "<table border=\"1\" class=\"dataframe\">\n",
       "  <thead>\n",
       "    <tr style=\"text-align: right;\">\n",
       "      <th></th>\n",
       "      <th></th>\n",
       "      <th>channel0</th>\n",
       "      <th>channel1</th>\n",
       "    </tr>\n",
       "    <tr>\n",
       "      <th>Time</th>\n",
       "      <th></th>\n",
       "      <th></th>\n",
       "      <th></th>\n",
       "    </tr>\n",
       "  </thead>\n",
       "  <tbody>\n",
       "    <tr>\n",
       "      <th rowspan=\"3\" valign=\"top\">0</th>\n",
       "      <th>Intercept</th>\n",
       "      <td>18.050893</td>\n",
       "      <td>32.704467</td>\n",
       "    </tr>\n",
       "    <tr>\n",
       "      <th>categorical[T.cat1]</th>\n",
       "      <td>-17.577082</td>\n",
       "      <td>11.820177</td>\n",
       "    </tr>\n",
       "    <tr>\n",
       "      <th>continuous</th>\n",
       "      <td>-14.427532</td>\n",
       "      <td>-55.349303</td>\n",
       "    </tr>\n",
       "    <tr>\n",
       "      <th rowspan=\"3\" valign=\"top\">1</th>\n",
       "      <th>Intercept</th>\n",
       "      <td>15.078748</td>\n",
       "      <td>-2.270738</td>\n",
       "    </tr>\n",
       "    <tr>\n",
       "      <th>categorical[T.cat1]</th>\n",
       "      <td>-19.521091</td>\n",
       "      <td>-1.673252</td>\n",
       "    </tr>\n",
       "    <tr>\n",
       "      <th>continuous</th>\n",
       "      <td>-16.362195</td>\n",
       "      <td>-3.327804</td>\n",
       "    </tr>\n",
       "  </tbody>\n",
       "</table>\n",
       "</div>"
      ],
      "text/plain": [
       "                           channel0   channel1\n",
       "Time                                          \n",
       "0    Intercept            18.050893  32.704467\n",
       "     categorical[T.cat1] -17.577082  11.820177\n",
       "     continuous          -14.427532 -55.349303\n",
       "1    Intercept            15.078748  -2.270738\n",
       "     categorical[T.cat1] -19.521091  -1.673252\n",
       "     continuous          -16.362195  -3.327804"
      ]
     },
     "execution_count": 10,
     "metadata": {},
     "output_type": "execute_result"
    }
   ],
   "source": [
    "betas = lm_grid.params\n",
    "betas.head(6)"
   ]
  },
  {
   "cell_type": "markdown",
   "metadata": {},
   "source": [
    "####  Adjusted $R^2$"
   ]
  },
  {
   "cell_type": "code",
   "execution_count": 11,
   "metadata": {},
   "outputs": [
    {
     "data": {
      "text/html": [
       "<div>\n",
       "<style scoped>\n",
       "    .dataframe tbody tr th:only-of-type {\n",
       "        vertical-align: middle;\n",
       "    }\n",
       "\n",
       "    .dataframe tbody tr th {\n",
       "        vertical-align: top;\n",
       "    }\n",
       "\n",
       "    .dataframe thead th {\n",
       "        text-align: right;\n",
       "    }\n",
       "</style>\n",
       "<table border=\"1\" class=\"dataframe\">\n",
       "  <thead>\n",
       "    <tr style=\"text-align: right;\">\n",
       "      <th></th>\n",
       "      <th>channel0</th>\n",
       "      <th>channel1</th>\n",
       "    </tr>\n",
       "    <tr>\n",
       "      <th>Time</th>\n",
       "      <th></th>\n",
       "      <th></th>\n",
       "    </tr>\n",
       "  </thead>\n",
       "  <tbody>\n",
       "    <tr>\n",
       "      <th>0</th>\n",
       "      <td>0.006194</td>\n",
       "      <td>0.260604</td>\n",
       "    </tr>\n",
       "    <tr>\n",
       "      <th>1</th>\n",
       "      <td>0.072003</td>\n",
       "      <td>-0.115794</td>\n",
       "    </tr>\n",
       "    <tr>\n",
       "      <th>2</th>\n",
       "      <td>0.052775</td>\n",
       "      <td>-0.054846</td>\n",
       "    </tr>\n",
       "    <tr>\n",
       "      <th>3</th>\n",
       "      <td>-0.076032</td>\n",
       "      <td>0.233450</td>\n",
       "    </tr>\n",
       "    <tr>\n",
       "      <th>4</th>\n",
       "      <td>-0.004449</td>\n",
       "      <td>0.038667</td>\n",
       "    </tr>\n",
       "    <tr>\n",
       "      <th>5</th>\n",
       "      <td>-0.115338</td>\n",
       "      <td>0.025115</td>\n",
       "    </tr>\n",
       "  </tbody>\n",
       "</table>\n",
       "</div>"
      ],
      "text/plain": [
       "      channel0  channel1\n",
       "Time                    \n",
       "0     0.006194  0.260604\n",
       "1     0.072003 -0.115794\n",
       "2     0.052775 -0.054846\n",
       "3    -0.076032  0.233450\n",
       "4    -0.004449  0.038667\n",
       "5    -0.115338  0.025115"
      ]
     },
     "execution_count": 11,
     "metadata": {},
     "output_type": "execute_result"
    }
   ],
   "source": [
    "rsquared_adj = lm_grid.rsquared_adj\n",
    "rsquared_adj.head(6)"
   ]
  },
  {
   "cell_type": "markdown",
   "metadata": {},
   "source": [
    "#### Cook's distance"
   ]
  },
  {
   "cell_type": "code",
   "execution_count": 12,
   "metadata": {},
   "outputs": [
    {
     "data": {
      "text/html": [
       "<div>\n",
       "<style scoped>\n",
       "    .dataframe tbody tr th:only-of-type {\n",
       "        vertical-align: middle;\n",
       "    }\n",
       "\n",
       "    .dataframe tbody tr th {\n",
       "        vertical-align: top;\n",
       "    }\n",
       "\n",
       "    .dataframe thead th {\n",
       "        text-align: right;\n",
       "    }\n",
       "</style>\n",
       "<table border=\"1\" class=\"dataframe\">\n",
       "  <thead>\n",
       "    <tr style=\"text-align: right;\">\n",
       "      <th></th>\n",
       "      <th></th>\n",
       "      <th></th>\n",
       "      <th>channel0</th>\n",
       "      <th>channel1</th>\n",
       "    </tr>\n",
       "    <tr>\n",
       "      <th>Time</th>\n",
       "      <th></th>\n",
       "      <th>Epoch_idx</th>\n",
       "      <th></th>\n",
       "      <th></th>\n",
       "    </tr>\n",
       "  </thead>\n",
       "  <tbody>\n",
       "    <tr>\n",
       "      <th rowspan=\"5\" valign=\"top\">0</th>\n",
       "      <th rowspan=\"5\" valign=\"top\">0</th>\n",
       "      <th>0</th>\n",
       "      <td>0.034113</td>\n",
       "      <td>0.015758</td>\n",
       "    </tr>\n",
       "    <tr>\n",
       "      <th>1</th>\n",
       "      <td>0.060702</td>\n",
       "      <td>0.015379</td>\n",
       "    </tr>\n",
       "    <tr>\n",
       "      <th>2</th>\n",
       "      <td>0.054559</td>\n",
       "      <td>0.034056</td>\n",
       "    </tr>\n",
       "    <tr>\n",
       "      <th>3</th>\n",
       "      <td>0.008012</td>\n",
       "      <td>0.044054</td>\n",
       "    </tr>\n",
       "    <tr>\n",
       "      <th>4</th>\n",
       "      <td>0.134372</td>\n",
       "      <td>0.279701</td>\n",
       "    </tr>\n",
       "  </tbody>\n",
       "</table>\n",
       "</div>"
      ],
      "text/plain": [
       "                  channel0  channel1\n",
       "Time   Epoch_idx                    \n",
       "0    0 0          0.034113  0.015758\n",
       "       1          0.060702  0.015379\n",
       "       2          0.054559  0.034056\n",
       "       3          0.008012  0.044054\n",
       "       4          0.134372  0.279701"
      ]
     },
     "execution_count": 12,
     "metadata": {},
     "output_type": "execute_result"
    }
   ],
   "source": [
    "influence = lm_grid.get_influence()\n",
    "cooks_distance = influence.cooks_distance\n",
    "cooks_distance.head()"
   ]
  },
  {
   "cell_type": "markdown",
   "metadata": {},
   "source": [
    "### 4.2 Queries return a `DataFrame` or another `FitGrid`\n",
    "\n",
    "Calling an attribute of a `FitGrid` objects returns either a pandas `DataFrame` of the\n",
    "appropriate shape or another `FitGrid` object:"
   ]
  },
  {
   "cell_type": "code",
   "execution_count": 13,
   "metadata": {},
   "outputs": [
    {
     "data": {
      "text/html": [
       "<div>\n",
       "<style scoped>\n",
       "    .dataframe tbody tr th:only-of-type {\n",
       "        vertical-align: middle;\n",
       "    }\n",
       "\n",
       "    .dataframe tbody tr th {\n",
       "        vertical-align: top;\n",
       "    }\n",
       "\n",
       "    .dataframe thead th {\n",
       "        text-align: right;\n",
       "    }\n",
       "</style>\n",
       "<table border=\"1\" class=\"dataframe\">\n",
       "  <thead>\n",
       "    <tr style=\"text-align: right;\">\n",
       "      <th></th>\n",
       "      <th></th>\n",
       "      <th>channel0</th>\n",
       "      <th>channel1</th>\n",
       "    </tr>\n",
       "    <tr>\n",
       "      <th>Time</th>\n",
       "      <th></th>\n",
       "      <th></th>\n",
       "      <th></th>\n",
       "    </tr>\n",
       "  </thead>\n",
       "  <tbody>\n",
       "    <tr>\n",
       "      <th rowspan=\"3\" valign=\"top\">0</th>\n",
       "      <th>Intercept</th>\n",
       "      <td>18.050893</td>\n",
       "      <td>32.704467</td>\n",
       "    </tr>\n",
       "    <tr>\n",
       "      <th>categorical[T.cat1]</th>\n",
       "      <td>-17.577082</td>\n",
       "      <td>11.820177</td>\n",
       "    </tr>\n",
       "    <tr>\n",
       "      <th>continuous</th>\n",
       "      <td>-14.427532</td>\n",
       "      <td>-55.349303</td>\n",
       "    </tr>\n",
       "    <tr>\n",
       "      <th rowspan=\"2\" valign=\"top\">1</th>\n",
       "      <th>Intercept</th>\n",
       "      <td>15.078748</td>\n",
       "      <td>-2.270738</td>\n",
       "    </tr>\n",
       "    <tr>\n",
       "      <th>categorical[T.cat1]</th>\n",
       "      <td>-19.521091</td>\n",
       "      <td>-1.673252</td>\n",
       "    </tr>\n",
       "  </tbody>\n",
       "</table>\n",
       "</div>"
      ],
      "text/plain": [
       "                           channel0   channel1\n",
       "Time                                          \n",
       "0    Intercept            18.050893  32.704467\n",
       "     categorical[T.cat1] -17.577082  11.820177\n",
       "     continuous          -14.427532 -55.349303\n",
       "1    Intercept            15.078748  -2.270738\n",
       "     categorical[T.cat1] -19.521091  -1.673252"
      ]
     },
     "execution_count": 13,
     "metadata": {},
     "output_type": "execute_result"
    }
   ],
   "source": [
    "# this is a dataframe\n",
    "lm_grid.params.head()"
   ]
  },
  {
   "cell_type": "code",
   "execution_count": 14,
   "metadata": {},
   "outputs": [
    {
     "data": {
      "text/plain": [
       "100 by 2 FitGrid of type <class 'statsmodels.stats.outliers_influence.OLSInfluence'>."
      ]
     },
     "execution_count": 14,
     "metadata": {},
     "output_type": "execute_result"
    }
   ],
   "source": [
    "# this is a FitGrid\n",
    "lm_grid.get_influence()"
   ]
  },
  {
   "cell_type": "markdown",
   "metadata": {},
   "source": [
    "If a dataframe is returned, it is always presented in long form with the same\n",
    "indices and columns on the outer side as a single epoch: channels as columns\n",
    "and time as indices."
   ]
  },
  {
   "cell_type": "markdown",
   "metadata": {},
   "source": [
    "### 4.3 Slicing the grid\n",
    "\n",
    "In addition, slicing on a `FitGrid` can be performed to produce a smaller grid\n",
    "of the shape you want. Suppose you want to only look at a certain channel\n",
    "within a given time interval. You can slice as follows:"
   ]
  },
  {
   "cell_type": "code",
   "execution_count": 15,
   "metadata": {},
   "outputs": [
    {
     "data": {
      "text/plain": [
       "51 by 1 LMFitGrid of type <class 'statsmodels.regression.linear_model.RegressionResultsWrapper'>."
      ]
     },
     "execution_count": 15,
     "metadata": {},
     "output_type": "execute_result"
    }
   ],
   "source": [
    "smaller_grid = lm_grid[25:75, 'channel0']\n",
    "smaller_grid"
   ]
  },
  {
   "cell_type": "markdown",
   "metadata": {},
   "source": [
    "Or multiple channels:"
   ]
  },
  {
   "cell_type": "code",
   "execution_count": 16,
   "metadata": {},
   "outputs": [
    {
     "data": {
      "text/plain": [
       "51 by 2 LMFitGrid of type <class 'statsmodels.regression.linear_model.RegressionResultsWrapper'>."
      ]
     },
     "execution_count": 16,
     "metadata": {},
     "output_type": "execute_result"
    }
   ],
   "source": [
    "smaller_grid = lm_grid[25:75, ['channel0', 'channel1']]\n",
    "smaller_grid"
   ]
  },
  {
   "cell_type": "markdown",
   "metadata": {},
   "source": [
    "To include all timepoints or all channels, use a colon:"
   ]
  },
  {
   "cell_type": "code",
   "execution_count": 17,
   "metadata": {},
   "outputs": [
    {
     "data": {
      "text/plain": [
       "51 by 2 LMFitGrid of type <class 'statsmodels.regression.linear_model.RegressionResultsWrapper'>."
      ]
     },
     "execution_count": 17,
     "metadata": {},
     "output_type": "execute_result"
    }
   ],
   "source": [
    "# all channels within certain timeframe\n",
    "lm_grid[25:75, :]"
   ]
  },
  {
   "cell_type": "code",
   "execution_count": 18,
   "metadata": {},
   "outputs": [
    {
     "data": {
      "text/plain": [
       "100 by 2 LMFitGrid of type <class 'statsmodels.regression.linear_model.RegressionResultsWrapper'>."
      ]
     },
     "execution_count": 18,
     "metadata": {},
     "output_type": "execute_result"
    }
   ],
   "source": [
    "# all timepoints, two channels\n",
    "lm_grid[:, ['channel0', 'channel1']]"
   ]
  }
 ],
 "metadata": {
  "kernelspec": {
   "display_name": "Python 3",
   "language": "python",
   "name": "python3"
  },
  "language_info": {
   "codemirror_mode": {
    "name": "ipython",
    "version": 3
   },
   "file_extension": ".py",
   "mimetype": "text/x-python",
   "name": "python",
   "nbconvert_exporter": "python",
   "pygments_lexer": "ipython3",
   "version": "3.6.8"
  }
 },
 "nbformat": 4,
 "nbformat_minor": 2
}
