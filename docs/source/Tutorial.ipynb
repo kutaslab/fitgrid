{
 "cells": [
  {
   "cell_type": "markdown",
   "metadata": {},
   "source": [
    "# Tutorial"
   ]
  },
  {
   "cell_type": "markdown",
   "metadata": {},
   "source": [
    "The `fitgrid` workflow consists of 3 steps:\n",
    "\n",
    "1. Read in an epochs table, which creates `Epochs`.\n",
    "2. Run a model using the `Epochs`, which creates a `FitGrid`.\n",
    "3. Examine fit or diagnostic information using the `FitGrid`.\n",
    "\n",
    "The commands below are in Python and are executed in Jupyter, but any Python environment will work. We recommend Jupyter Lab, Jupyter Notebook, or IPython."
   ]
  },
  {
   "cell_type": "markdown",
   "metadata": {},
   "source": [
    "## 1. Read an epochs table"
   ]
  },
  {
   "cell_type": "code",
   "execution_count": null,
   "metadata": {},
   "outputs": [],
   "source": [
    "import fitgrid"
   ]
  },
  {
   "cell_type": "markdown",
   "metadata": {},
   "source": [
    "### Assumptions\n",
    "\n",
    "- all epochs have the same time indices, and thus at each timepoint we have measurements from the same set of epochs\n",
    "- no duplicate epoch identifier values are allowed."
   ]
  },
  {
   "cell_type": "markdown",
   "metadata": {},
   "source": [
    "Suppose you have an HDF5 file containing an epochs table of the following form:\n",
    "\n",
    "| Epoch | Sample | predictor | channel_A | channel_B |\n",
    "|-------|--------|----------:|----------:|----------:|\n",
    "| 1     | 1      | 0.1       | 55        | 60        |\n",
    "| 1     | 2      | 0.2       | 54        | 58        |\n",
    "| 1     | 3      | 0.4       | 57        | 64        |\n",
    "| 2     | 1      | 0.8       | 43        | 12        |\n",
    "| 2     | 2      | 0.4       | 45        | 23        |\n",
    "| 2     | 3      | 0.2       | 41        | 18        |"
   ]
  },
  {
   "cell_type": "markdown",
   "metadata": {},
   "source": [
    "You need to tell `fitgrid`:\n",
    "\n",
    "1. which index column is the epoch identifier\n",
    "2. which index column is the time identifier\n",
    "3. which columns you want to model (channels)\n",
    "\n",
    "So to read the HDF5 file, you would call `fitgrid.epochs_from_hdf` as follows:\n",
    "\n",
    "```python\n",
    "epochs = fitgrid.epochs_from_hdf(\n",
    "    filename='epochs.hdf',\n",
    "    key=None,\n",
    "    time='Sample',\n",
    "    epoch_id='Epoch',\n",
    "    channels=['channel_A', 'channel_B']\n",
    ")\n",
    "```"
   ]
  },
  {
   "cell_type": "markdown",
   "metadata": {},
   "source": [
    "### Example"
   ]
  },
  {
   "cell_type": "markdown",
   "metadata": {},
   "source": [
    "Take the following simulated dataset:"
   ]
  },
  {
   "cell_type": "code",
   "execution_count": null,
   "metadata": {},
   "outputs": [],
   "source": [
    "example_filename = 'example.h5'"
   ]
  },
  {
   "cell_type": "code",
   "execution_count": null,
   "metadata": {},
   "outputs": [],
   "source": [
    "import pandas as pd\n",
    "pd.read_hdf(example_filename).head(5)"
   ]
  },
  {
   "cell_type": "markdown",
   "metadata": {},
   "source": [
    "To read this dataset, run:"
   ]
  },
  {
   "cell_type": "code",
   "execution_count": null,
   "metadata": {},
   "outputs": [],
   "source": [
    "epochs = fitgrid.epochs_from_hdf(\n",
    "    filename=example_filename,\n",
    "    key=None,\n",
    "    time='Time',\n",
    "    epoch_id='Epoch_idx',\n",
    "    channels=['channel0', 'channel1']\n",
    ")"
   ]
  },
  {
   "cell_type": "markdown",
   "metadata": {},
   "source": [
    "This creates an epochs object that can be used for modeling."
   ]
  },
  {
   "cell_type": "markdown",
   "metadata": {},
   "source": [
    "In addition to HDF5 files, epochs objects can be read from Feather files or from pandas DataFrames using `fitgrid.epochs_from_feather` and `fitgrid.epochs_from_dataframe` respectively. For details check the Reference section.\n",
    "\n",
    "Kutas lab specific defaults values for `time`, `epoch_id` and `channels` are available in `fitgrid.defaults`:"
   ]
  },
  {
   "cell_type": "code",
   "execution_count": null,
   "metadata": {},
   "outputs": [],
   "source": [
    "fitgrid.defaults.TIME"
   ]
  },
  {
   "cell_type": "code",
   "execution_count": null,
   "metadata": {},
   "outputs": [],
   "source": [
    "fitgrid.defaults.EPOCH_ID"
   ]
  },
  {
   "cell_type": "code",
   "execution_count": null,
   "metadata": {},
   "outputs": [],
   "source": [
    "fitgrid.defaults.CHANNELS"
   ]
  },
  {
   "cell_type": "markdown",
   "metadata": {},
   "source": [
    "## 2. Run a model\n",
    "\n",
    "As of now, linear regression (via ``statsmodels``' ``ols``) and linear mixed\n",
    "models (via ``lme4``'s ``lmer``) are available. \n",
    "\n",
    "Running a model on the epochs creates a `FitGrid` object, containing fit\n",
    "information, such as the betas, and diagnostic information,\n",
    "such as $R^2$ in the case of linear regression.\n",
    "\n",
    "### Linear regression\n",
    "\n",
    "To run linear regression on the epochs, use the `lm` function:"
   ]
  },
  {
   "cell_type": "code",
   "execution_count": null,
   "metadata": {},
   "outputs": [],
   "source": [
    "lm_grid = fitgrid.lm(epochs, RHS='continuous + categorical')"
   ]
  },
  {
   "cell_type": "markdown",
   "metadata": {},
   "source": [
    "`fitgrid.lm` runs linear regression for each channel, with a single channel\n",
    "data as the left hand side, and the right hand side given by the Patsy/R style\n",
    "formula passed in using the `RHS` parameter:\n",
    "\n",
    "    channel0 ~ continuous + categorical\n",
    "    channel1 ~ continuous + categorical\n",
    "    ...\n",
    "    channel31 ~ continuous + categorical"
   ]
  },
  {
   "cell_type": "markdown",
   "metadata": {},
   "source": [
    "If you want to model only a specific subset of channels, pass the list of channels to the `LHS` parameter."
   ]
  },
  {
   "cell_type": "markdown",
   "metadata": {},
   "source": [
    "### Mixed effects"
   ]
  },
  {
   "cell_type": "markdown",
   "metadata": {},
   "source": [
    "Similarly, to run `lmer`, use the `lmer` function:"
   ]
  },
  {
   "cell_type": "code",
   "execution_count": null,
   "metadata": {},
   "outputs": [],
   "source": [
    "lmer_grid = fitgrid.lmer(epochs, RHS='continuous + (continuous | categorical)')"
   ]
  },
  {
   "cell_type": "markdown",
   "metadata": {},
   "source": [
    "With lmer especially, it might be useful to run your model with multiple\n",
    "processes to speed it up. This can be achieved by setting ``parallel`` to\n",
    "``True`` and ``n_cores`` to the desired value (defaults to 4) as follows:"
   ]
  },
  {
   "cell_type": "code",
   "execution_count": null,
   "metadata": {},
   "outputs": [],
   "source": [
    "lmer_grid = fitgrid.lmer(epochs, RHS='continuous + (continuous | categorical)', parallel=True)"
   ]
  },
  {
   "cell_type": "markdown",
   "metadata": {},
   "source": [
    "## 3. Examine results\n",
    "\n",
    "\n",
    "``FitGrid`` objects, like `lm_grid` or `lmer_grid` above, can be queried for attributes just like a\n",
    "``fit`` object from ``statsmodels`` (see Research context for more\n",
    "background), for example:"
   ]
  },
  {
   "cell_type": "markdown",
   "metadata": {},
   "source": [
    "### Betas"
   ]
  },
  {
   "cell_type": "code",
   "execution_count": null,
   "metadata": {},
   "outputs": [],
   "source": [
    "betas = lm_grid.params\n",
    "betas.head(6)"
   ]
  },
  {
   "cell_type": "markdown",
   "metadata": {},
   "source": [
    "### $R^2$"
   ]
  },
  {
   "cell_type": "code",
   "execution_count": null,
   "metadata": {},
   "outputs": [],
   "source": [
    "rsquared_adj = lm_grid.rsquared_adj\n",
    "rsquared_adj.head(6)"
   ]
  },
  {
   "cell_type": "markdown",
   "metadata": {},
   "source": [
    "### Cook's distance"
   ]
  },
  {
   "cell_type": "code",
   "execution_count": null,
   "metadata": {},
   "outputs": [],
   "source": [
    "influence = lm_grid.get_influence()\n",
    "cooks_distance = influence.cooks_distance\n",
    "cooks_distance.head()"
   ]
  },
  {
   "cell_type": "markdown",
   "metadata": {},
   "source": [
    "If you are using an interactive environment like Jupyter Notebook or IPython,\n",
    "you can use tab completion to see what attributes are available:\n",
    "\n",
    "```python\n",
    "# type 'lm_grid.' and press Tab\n",
    "lm_grid.<TAB>\n",
    "```"
   ]
  },
  {
   "cell_type": "markdown",
   "metadata": {},
   "source": [
    "Calling an attribute of a `FitGrid` objects returns either a pandas `DataFrame` of the\n",
    "appropriate shape or another `FitGrid` object:"
   ]
  },
  {
   "cell_type": "code",
   "execution_count": null,
   "metadata": {},
   "outputs": [],
   "source": [
    "# this is a dataframe\n",
    "lm_grid.params.head()"
   ]
  },
  {
   "cell_type": "code",
   "execution_count": null,
   "metadata": {},
   "outputs": [],
   "source": [
    "# this is a FitGrid\n",
    "lm_grid.get_influence()"
   ]
  },
  {
   "cell_type": "markdown",
   "metadata": {},
   "source": [
    "If a dataframe is returned, it is always presented in long form with the same\n",
    "indices and columns on the outer side as a single epoch: channels as columns\n",
    "and time as indices.\n",
    "\n",
    "In addition, slicing on a `FitGrid` can be performed to produce a smaller grid\n",
    "of the shape you want. Suppose you want to only look at a certain channel\n",
    "within a given timeframe. You can slice as follows:"
   ]
  },
  {
   "cell_type": "code",
   "execution_count": null,
   "metadata": {},
   "outputs": [],
   "source": [
    "smaller_grid = lm_grid[25:75, 'channel0']\n",
    "smaller_grid"
   ]
  },
  {
   "cell_type": "markdown",
   "metadata": {},
   "source": [
    "Or multiple channels:"
   ]
  },
  {
   "cell_type": "code",
   "execution_count": null,
   "metadata": {},
   "outputs": [],
   "source": [
    "smaller_grid = lm_grid[25:75, ['channel0', 'channel1']]\n",
    "smaller_grid"
   ]
  },
  {
   "cell_type": "markdown",
   "metadata": {},
   "source": [
    "To include all timepoints or all channels, use a colon:"
   ]
  },
  {
   "cell_type": "code",
   "execution_count": null,
   "metadata": {},
   "outputs": [],
   "source": [
    "# all channels within certain timeframe\n",
    "lm_grid[25:75, :]"
   ]
  },
  {
   "cell_type": "code",
   "execution_count": null,
   "metadata": {},
   "outputs": [],
   "source": [
    "# all timepoints, two channels\n",
    "lm_grid[:, ['channel0', 'channel1']]"
   ]
  }
 ],
 "metadata": {
  "kernelspec": {
   "display_name": "Python 3",
   "language": "python",
   "name": "python3"
  },
  "language_info": {
   "codemirror_mode": {
    "name": "ipython",
    "version": 3
   },
   "file_extension": ".py",
   "mimetype": "text/x-python",
   "name": "python",
   "nbconvert_exporter": "python",
   "pygments_lexer": "ipython3",
   "version": "3.6.6"
  }
 },
 "nbformat": 4,
 "nbformat_minor": 2
}
