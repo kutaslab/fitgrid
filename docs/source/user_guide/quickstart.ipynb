{
 "cells": [
  {
   "cell_type": "markdown",
   "metadata": {},
   "source": [
    "# Workflow"
   ]
  },
  {
   "cell_type": "markdown",
   "metadata": {},
   "source": [
    "The `fitgrid` data modeling workflow consists of 4 steps:\n",
    "\n",
    "1. Prepare your dataset as a `pandas.DataFrame`\n",
    "2. Load your dataset into fitgrid, which creates an `Epochs` object.\n",
    "3. Run a model on the `Epochs`, which creates a `FitGrid`.\n",
    "4. Query the `FitGrid` for the model fit information estimates and diagnostic information at each sample and stream.\n",
    "\n",
    "The commands below are in Python and are executed in Jupyter, but any Python environment will work. We recommend Jupyter Lab, Jupyter Notebook, or IPython."
   ]
  },
  {
   "cell_type": "code",
   "execution_count": 2,
   "metadata": {},
   "outputs": [
    {
     "data": {
      "text/plain": [
       "'/home/turbach/.conda/envs/dummy_mkconda-0.0.11/lib/python3.6/site-packages/fitgrid/__init__.py'"
      ]
     },
     "execution_count": 2,
     "metadata": {},
     "output_type": "execute_result"
    }
   ],
   "source": [
    "import fitgrid"
   ]
  },
  {
   "cell_type": "markdown",
   "metadata": {},
   "source": [
    "## Prepare your dataset\n",
    "\n",
    "`fitgrid` assumes you are modeling \"epochs\", i.e., fixed-length segments of time-stamped data streams (\"channels\").\n",
    "\n",
    "Prepare your dataset as a `pandas.DataFrame` layed out in a long rows x narrow columns format with the response and predictor variables as the named columns and the data values (\"observations\") in rows.\n",
    "\n",
    "Besides the response and predictor columns, two additional index columns that give the epoch identifier and time stamp of each observation (see the examples below).\n",
    "\n",
    "\n",
    "Dataset Format\n",
    "\n",
    "- column names can be chosen freely\n",
    "\n",
    "- all epochs must have exactly the same time stamps\n",
    "\n",
    "- each epoch must have a unique identifier in the dataset, no duplicates are allowed\n",
    "\n",
    "\n",
    "Example\n",
    "\n",
    "\n",
    "Here is a toy dataset, `my_data`.\n",
    "\n",
    "There are two predictor variable columns and two response variable columns.\n",
    "\n",
    "There are 4 epochs:\n",
    "    * each has a unique identifier, one of `1, 2, 3, 4`\n",
    "    * all have the same 3 time stamps `0, 100, 200`\n"
   ]
  },
  {
   "cell_type": "code",
   "execution_count": 1,
   "metadata": {},
   "outputs": [
    {
     "data": {
      "text/html": [
       "<div>\n",
       "<style scoped>\n",
       "    .dataframe tbody tr th:only-of-type {\n",
       "        vertical-align: middle;\n",
       "    }\n",
       "\n",
       "    .dataframe tbody tr th {\n",
       "        vertical-align: top;\n",
       "    }\n",
       "\n",
       "    .dataframe thead th {\n",
       "        text-align: right;\n",
       "    }\n",
       "</style>\n",
       "<table border=\"1\" class=\"dataframe\">\n",
       "  <thead>\n",
       "    <tr style=\"text-align: right;\">\n",
       "      <th></th>\n",
       "      <th></th>\n",
       "      <th>predictor_x1</th>\n",
       "      <th>predictor_x2</th>\n",
       "      <th>data_y1</th>\n",
       "      <th>data_y2</th>\n",
       "    </tr>\n",
       "    <tr>\n",
       "      <th>epochs</th>\n",
       "      <th>times</th>\n",
       "      <th></th>\n",
       "      <th></th>\n",
       "      <th></th>\n",
       "      <th></th>\n",
       "    </tr>\n",
       "  </thead>\n",
       "  <tbody>\n",
       "    <tr>\n",
       "      <th rowspan=\"3\" valign=\"top\">1</th>\n",
       "      <th>0</th>\n",
       "      <td>0.008853</td>\n",
       "      <td>a</td>\n",
       "      <td>0.105821</td>\n",
       "      <td>0.090768</td>\n",
       "    </tr>\n",
       "    <tr>\n",
       "      <th>100</th>\n",
       "      <td>0.808473</td>\n",
       "      <td>a</td>\n",
       "      <td>0.995968</td>\n",
       "      <td>0.005578</td>\n",
       "    </tr>\n",
       "    <tr>\n",
       "      <th>200</th>\n",
       "      <td>0.667284</td>\n",
       "      <td>a</td>\n",
       "      <td>0.579070</td>\n",
       "      <td>0.255116</td>\n",
       "    </tr>\n",
       "    <tr>\n",
       "      <th rowspan=\"3\" valign=\"top\">2</th>\n",
       "      <th>0</th>\n",
       "      <td>0.004673</td>\n",
       "      <td>b</td>\n",
       "      <td>0.995888</td>\n",
       "      <td>0.440184</td>\n",
       "    </tr>\n",
       "    <tr>\n",
       "      <th>100</th>\n",
       "      <td>0.634668</td>\n",
       "      <td>b</td>\n",
       "      <td>0.696372</td>\n",
       "      <td>0.142120</td>\n",
       "    </tr>\n",
       "    <tr>\n",
       "      <th>200</th>\n",
       "      <td>0.388703</td>\n",
       "      <td>b</td>\n",
       "      <td>0.043871</td>\n",
       "      <td>0.676516</td>\n",
       "    </tr>\n",
       "    <tr>\n",
       "      <th rowspan=\"3\" valign=\"top\">3</th>\n",
       "      <th>0</th>\n",
       "      <td>0.829220</td>\n",
       "      <td>a</td>\n",
       "      <td>0.652219</td>\n",
       "      <td>0.660098</td>\n",
       "    </tr>\n",
       "    <tr>\n",
       "      <th>100</th>\n",
       "      <td>0.404907</td>\n",
       "      <td>a</td>\n",
       "      <td>0.170524</td>\n",
       "      <td>0.162946</td>\n",
       "    </tr>\n",
       "    <tr>\n",
       "      <th>200</th>\n",
       "      <td>0.059059</td>\n",
       "      <td>a</td>\n",
       "      <td>0.879215</td>\n",
       "      <td>0.779424</td>\n",
       "    </tr>\n",
       "    <tr>\n",
       "      <th rowspan=\"3\" valign=\"top\">4</th>\n",
       "      <th>0</th>\n",
       "      <td>0.612454</td>\n",
       "      <td>b</td>\n",
       "      <td>0.452409</td>\n",
       "      <td>0.936193</td>\n",
       "    </tr>\n",
       "    <tr>\n",
       "      <th>100</th>\n",
       "      <td>0.091077</td>\n",
       "      <td>b</td>\n",
       "      <td>0.634560</td>\n",
       "      <td>0.931614</td>\n",
       "    </tr>\n",
       "    <tr>\n",
       "      <th>200</th>\n",
       "      <td>0.689351</td>\n",
       "      <td>b</td>\n",
       "      <td>0.950802</td>\n",
       "      <td>0.402790</td>\n",
       "    </tr>\n",
       "  </tbody>\n",
       "</table>\n",
       "</div>"
      ],
      "text/plain": [
       "              predictor_x1 predictor_x2   data_y1   data_y2\n",
       "epochs times                                               \n",
       "1      0          0.008853            a  0.105821  0.090768\n",
       "       100        0.808473            a  0.995968  0.005578\n",
       "       200        0.667284            a  0.579070  0.255116\n",
       "2      0          0.004673            b  0.995888  0.440184\n",
       "       100        0.634668            b  0.696372  0.142120\n",
       "       200        0.388703            b  0.043871  0.676516\n",
       "3      0          0.829220            a  0.652219  0.660098\n",
       "       100        0.404907            a  0.170524  0.162946\n",
       "       200        0.059059            a  0.879215  0.779424\n",
       "4      0          0.612454            b  0.452409  0.936193\n",
       "       100        0.091077            b  0.634560  0.931614\n",
       "       200        0.689351            b  0.950802  0.402790"
      ]
     },
     "execution_count": 1,
     "metadata": {},
     "output_type": "execute_result"
    }
   ],
   "source": [
    "import numpy as np\n",
    "import pandas as pd\n",
    "n_timestamps = 3\n",
    "\n",
    "categorical_factor = [\"a\", \"b\"]\n",
    "n_each = 2  \n",
    "n_epochs = len(categorical_factor) * n_each\n",
    "\n",
    "my_data = pd.DataFrame(\n",
    "    {\n",
    "        'epochs': 1 + np.repeat(range(n_epochs), n_timestamps),\n",
    "        'times': 100 * np.tile(range(n_timestamps), n_epochs),\n",
    "        'predictor_x1': np.random.random(n_timestamps * n_epochs),\n",
    "        'predictor_x2': np.tile(\n",
    "            np.repeat(categorical_factor, n_timestamps), n_each\n",
    "        ),\n",
    "        'data_y1': np.random.random(n_timestamps * n_epochs),\n",
    "        'data_y2': np.random.random(n_timestamps * n_epochs),\n",
    "    }\n",
    ")\n",
    "\n",
    "# this index is required!\n",
    "my_data.set_index(['epochs', 'times'], inplace=True)\n",
    "my_data"
   ]
  },
  {
   "cell_type": "markdown",
   "metadata": {},
   "source": [
    "## 2. Load your dataset into fitgrid\n",
    "\n",
    "`fitgrid` can load your dataframe directly from the Python workspace or from a file.\n",
    "\n",
    "Either way, you need to tell `fitgrid`:\n",
    "\n",
    "1. which index column is the epoch identifier\n",
    "2. which index column is the time identifier\n",
    "3. which columns are the response variable(s) to model"
   ]
  },
  {
   "cell_type": "markdown",
   "metadata": {},
   "source": [
    "### 2.1 Example: Load a dataset from the Python workspace"
   ]
  },
  {
   "cell_type": "code",
   "execution_count": null,
   "metadata": {},
   "outputs": [],
   "source": [
    "# feed the toy dataset to fitgrid\n",
    "epochs_fg = fitgrid.epochs_from_dataframe(\n",
    "    my_data,\n",
    "    time='times',\n",
    "    epoch_id='epochs',\n",
    "    channels=['data_y1', 'data_y2']\n",
    ")"
   ]
  },
  {
   "cell_type": "markdown",
   "metadata": {},
   "source": [
    "Now you have a fitgrid epochs table"
   ]
  },
  {
   "cell_type": "code",
   "execution_count": null,
   "metadata": {},
   "outputs": [],
   "source": [
    "epochs_fg"
   ]
  },
  {
   "cell_type": "markdown",
   "metadata": {},
   "source": [
    "### 2.2 Load a dataset from an HDF5 file\n",
    "\n",
    "The file `example.h5` was saved with `pandas.to_hdf()`. \n",
    "\n",
    "It contains a toy dataset with 20 epochs and 100 timestamps that looks like this:\n",
    "\n",
    "|   Epoch_idx  | Time  | continuous | categorical   | channel0   | channel1   |\n",
    "|--------------|-------|------------|---------------|------------|------------|\n",
    "|          0   |  0    | 0.439425   |     cat0      | -13.332813 |  24.074655 |\n",
    "|          0   |  1    | 0.028030   |     cat0      | -16.005318 |  23.879106 |\n",
    "|          0   |  2    | 0.484779   |     cat0      |  21.309482 |  13.479029 |\n",
    "|          0   |  3    | 0.008352   |     cat0      | -39.315872 |  46.974077 |\n",
    "|          0   |  4    | 0.597296   |     cat0      |  34.399671 |  -3.740801 |\n",
    "|          .   |  .    |    .       |      .        |      .     |      .     |\n",
    "|          .   |  .    |    .       |      .        |      .     |      .     |\n",
    "|          .   |  .    |    .       |      .        |      .     |      .     |\n",
    "|         19   | 95    | 0.611419   |     cat1      |   6.877276 |  -3.882082 |\n",
    "|         19   | 96    | 0.728147   |     cat1      | -38.291487 |   1.024060 |\n",
    "|         19   | 97    | 0.605416   |     cat1      |   4.123766 |  56.674669 |\n",
    "|         19   | 98    | 0.199554   |     cat1      | -45.001713 | -18.420173 |\n",
    "|         19   | 99    | 0.008011   |     cat1      | -30.901878 |  35.481089 |\n"
   ]
  },
  {
   "cell_type": "markdown",
   "metadata": {},
   "source": [
    "To load this dataset directly, run:"
   ]
  },
  {
   "cell_type": "code",
   "execution_count": null,
   "metadata": {},
   "outputs": [],
   "source": [
    "epochs_fg = fitgrid.epochs_from_hdf(\n",
    "    filename='example.h5',\n",
    "    key=None,\n",
    "    time='Time',\n",
    "    epoch_id='Epoch_idx',\n",
    "    channels=['channel0', 'channel1']\n",
    ")"
   ]
  },
  {
   "cell_type": "markdown",
   "metadata": {},
   "source": [
    "This also creates an epochs object"
   ]
  },
  {
   "cell_type": "code",
   "execution_count": null,
   "metadata": {},
   "outputs": [],
   "source": [
    "epochs_fg"
   ]
  },
  {
   "cell_type": "markdown",
   "metadata": {},
   "source": [
    "### 2.3 Load a dataset from a feather format file\n",
    "\n",
    "See `fitgrid` Reference\n"
   ]
  },
  {
   "cell_type": "markdown",
   "metadata": {},
   "source": [
    "## 3. Run a model\n",
    "\n",
    "Once the epochs are loaded, `fitgrid` fits a model (formula) at each time point and channel and captures the results in 2-D grid (time x channels).\n",
    "\n",
    "Each cell in the grid has the model fit information for that time point and channel, such as estimated betas and diagnostic information like $R^2$ and Cook's $D$ in the case of linear regression.\n",
    "\n",
    "Model formulas are the same ones used by `lme4:lmer` in `R` and `patsy` for `statsmodels` in `Python`\n",
    "\n",
    "As of now, linear regression (via ``statsmodels``' ``ols``) and linear mixed\n",
    "models (via ``lme4``'s ``lmer``) are available. \n",
    "\n",
    "Running a model on the epochs creates a `FitGrid` object, \n",
    "\n",
    "### 3.1 Ordinary least squares\n",
    "\n",
    "To run linear regression on the epochs, use the `lm` function. This calls `statsmodels.ols` under the hood."
   ]
  },
  {
   "cell_type": "code",
   "execution_count": null,
   "metadata": {},
   "outputs": [],
   "source": [
    "lm_grid = fitgrid.lm(\n",
    "    epochs_fg,\n",
    "    RHS='continuous + categorical'\n",
    ")"
   ]
  },
  {
   "cell_type": "markdown",
   "metadata": {},
   "source": [
    "`fitgrid.lm` runs linear regression for each channel, with a single channel\n",
    "data as the left hand side, and the right hand side given by the Patsy/R style\n",
    "formula passed in using the `RHS` parameter:\n",
    "\n",
    "    channel0 ~ continuous + categorical\n",
    "    channel1 ~ continuous + categorical\n",
    "    ...\n",
    "    channel31 ~ continuous + categorical"
   ]
  },
  {
   "cell_type": "markdown",
   "metadata": {},
   "source": [
    "If you want to model only a specific subset of channels, pass the list of channels to the `LHS` parameter.\n",
    "\n",
    "```python\n",
    "lm_grid = fitgrid.lm(\n",
    "    epochs_fg,\n",
    "    LHS=['channel1', 'channel3', 'channel5'],\n",
    "    RHS='continuous + categorical'\n",
    ")\n",
    "```"
   ]
  },
  {
   "cell_type": "markdown",
   "metadata": {},
   "source": [
    "### 3.2 linear mixed effects"
   ]
  },
  {
   "cell_type": "markdown",
   "metadata": {},
   "source": [
    "Similarly, to model linear mixed effects use the `lmer` function. This calls `lme4::lmer()` under the hood."
   ]
  },
  {
   "cell_type": "code",
   "execution_count": null,
   "metadata": {},
   "outputs": [],
   "source": [
    "%%time\n",
    "\n",
    "lmer_grid = fitgrid.lmer(\n",
    "    epochs_fg,\n",
    "    RHS='continuous + (continuous | categorical)'\n",
    ")"
   ]
  },
  {
   "cell_type": "markdown",
   "metadata": {},
   "source": [
    "### 3.3 Multicore parallel processing\n",
    "\n",
    "With lmer especially, it may be useful to run your model with multiple\n",
    "processes to speed it up.\n",
    "\n",
    "This can be achieved by setting ``parallel`` to\n",
    "``True`` and ``n_cores`` to the desired value (defaults to 4) as follows.\n",
    "\n",
    "The performance benefits depend on your hardware. A laptop usually has 4 cores, a good workstation may have 8, a high performance server may have dozens. If working on a shared system it is rude (and unproductive) to hog cores."
   ]
  },
  {
   "cell_type": "code",
   "execution_count": null,
   "metadata": {},
   "outputs": [],
   "source": [
    "%%time\n",
    "\n",
    "lmer_grid = fitgrid.lmer(\n",
    "    epochs_fg,\n",
    "    RHS='continuous + (continuous | categorical)', \n",
    "    parallel=True,\n",
    "    n_cores=4)"
   ]
  },
  {
   "cell_type": "markdown",
   "metadata": {},
   "source": [
    "## 4. Working with the grid\n",
    "\n",
    "\n",
    "``FitGrid`` objects, like `lm_grid` or `lmer_grid` above, can be queried for attributes just like a\n",
    "``fit`` object returned by ``statsmodels`` or ``lmer`` (see Overview Doing Statistics in Python for more\n",
    "background), for example:\n",
    "\n",
    "**Hint**: If you are using an interactive environment like Jupyter Notebook or IPython,\n",
    "  you can use tab completion to see what attributes are available:\n",
    "\n",
    "```python\n",
    "# type 'lm_grid.' and press Tab\n",
    "lm_grid.<TAB>\n",
    "```"
   ]
  },
  {
   "cell_type": "markdown",
   "metadata": {},
   "source": [
    "### 4.1 Examples\n",
    "\n",
    "#### Beta estimates"
   ]
  },
  {
   "cell_type": "code",
   "execution_count": null,
   "metadata": {},
   "outputs": [],
   "source": [
    "betas = lm_grid.params\n",
    "betas.head(6)"
   ]
  },
  {
   "cell_type": "markdown",
   "metadata": {},
   "source": [
    "####  Adjusted $R^2$"
   ]
  },
  {
   "cell_type": "code",
   "execution_count": null,
   "metadata": {},
   "outputs": [],
   "source": [
    "rsquared_adj = lm_grid.rsquared_adj\n",
    "rsquared_adj.head(6)"
   ]
  },
  {
   "cell_type": "markdown",
   "metadata": {},
   "source": [
    "#### Cook's distance"
   ]
  },
  {
   "cell_type": "code",
   "execution_count": null,
   "metadata": {},
   "outputs": [],
   "source": [
    "influence = lm_grid.get_influence()\n",
    "cooks_distance = influence.cooks_distance\n",
    "cooks_distance.head()"
   ]
  },
  {
   "cell_type": "markdown",
   "metadata": {},
   "source": [
    "### 4.2 Queries return a `DataFrame` or another `FitGrid`\n",
    "\n",
    "Calling an attribute of a `FitGrid` objects returns either a pandas `DataFrame` of the\n",
    "appropriate shape or another `FitGrid` object:"
   ]
  },
  {
   "cell_type": "code",
   "execution_count": null,
   "metadata": {},
   "outputs": [],
   "source": [
    "# this is a dataframe\n",
    "lm_grid.params.head()"
   ]
  },
  {
   "cell_type": "code",
   "execution_count": null,
   "metadata": {},
   "outputs": [],
   "source": [
    "# this is a FitGrid\n",
    "lm_grid.get_influence()"
   ]
  },
  {
   "cell_type": "markdown",
   "metadata": {},
   "source": [
    "If a dataframe is returned, it is always presented in long form with the same\n",
    "indices and columns on the outer side as a single epoch: channels as columns\n",
    "and time as indices."
   ]
  },
  {
   "cell_type": "markdown",
   "metadata": {},
   "source": [
    "### 4.3 Slicing the grid\n",
    "\n",
    "In addition, slicing on a `FitGrid` can be performed to produce a smaller grid\n",
    "of the shape you want. Suppose you want to only look at a certain channel\n",
    "within a given time interval. You can slice as follows:"
   ]
  },
  {
   "cell_type": "code",
   "execution_count": null,
   "metadata": {},
   "outputs": [],
   "source": [
    "smaller_grid = lm_grid[25:75, 'channel0']\n",
    "smaller_grid"
   ]
  },
  {
   "cell_type": "markdown",
   "metadata": {},
   "source": [
    "Or multiple channels:"
   ]
  },
  {
   "cell_type": "code",
   "execution_count": null,
   "metadata": {},
   "outputs": [],
   "source": [
    "smaller_grid = lm_grid[25:75, ['channel0', 'channel1']]\n",
    "smaller_grid"
   ]
  },
  {
   "cell_type": "markdown",
   "metadata": {},
   "source": [
    "To include all timepoints or all channels, use a colon:"
   ]
  },
  {
   "cell_type": "code",
   "execution_count": null,
   "metadata": {},
   "outputs": [],
   "source": [
    "# all channels within certain timeframe\n",
    "lm_grid[25:75, :]"
   ]
  },
  {
   "cell_type": "code",
   "execution_count": null,
   "metadata": {},
   "outputs": [],
   "source": [
    "# all timepoints, two channels\n",
    "lm_grid[:, ['channel0', 'channel1']]"
   ]
  }
 ],
 "metadata": {
  "kernelspec": {
   "display_name": "Python 3",
   "language": "python",
   "name": "python3"
  },
  "language_info": {
   "codemirror_mode": {
    "name": "ipython",
    "version": 3
   },
   "file_extension": ".py",
   "mimetype": "text/x-python",
   "name": "python",
   "nbconvert_exporter": "python",
   "pygments_lexer": "ipython3",
   "version": "3.7.7"
  }
 },
 "nbformat": 4,
 "nbformat_minor": 4
}
