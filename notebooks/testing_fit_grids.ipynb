{
 "cells": [
  {
   "cell_type": "code",
   "execution_count": 1,
   "metadata": {},
   "outputs": [],
   "source": [
    "from eegr import fit_bucket\n",
    "from eegr import sim_data as sd"
   ]
  },
  {
   "cell_type": "code",
   "execution_count": 112,
   "metadata": {},
   "outputs": [
    {
     "data": {
      "text/plain": [
       "(72, 4)"
      ]
     },
     "execution_count": 112,
     "metadata": {},
     "output_type": "execute_result"
    }
   ],
   "source": [
    "df_test_set('complex1').shape"
   ]
  },
  {
   "cell_type": "code",
   "execution_count": 113,
   "metadata": {},
   "outputs": [],
   "source": [
    "simple = df_test_set('simple')"
   ]
  },
  {
   "cell_type": "code",
   "execution_count": 117,
   "metadata": {},
   "outputs": [
    {
     "data": {
      "text/plain": [
       "'L_1_1'"
      ]
     },
     "execution_count": 117,
     "metadata": {},
     "output_type": "execute_result"
    }
   ],
   "source": [
    "simple['cat'].values[0]"
   ]
  },
  {
   "cell_type": "code",
   "execution_count": 109,
   "metadata": {},
   "outputs": [],
   "source": [
    "def df_test_set(complexity):\n",
    "    if complexity == 'simple':\n",
    "        epoch_p = (1,2)\n",
    "        time_p = (1,3,1)\n",
    "        cat_p = [(1,1)]\n",
    "        cont_p = [(1,1)]\n",
    "        noise = (0,0)\n",
    "        simple_df = sd.df_gen(epoch_p=epoch_p, time_p=time_p, \n",
    "                       cat_p=cat_p, cont_p=cont_p, noise_p=noise)\n",
    "        return simple_df\n",
    "    elif complexity == 'complex1':\n",
    "        epoch_p = (1,5)\n",
    "        time_p = (0,30,5)\n",
    "        cat_p = [(1,1),(2,2),(3,3)]\n",
    "        cont_p = [(1,3),(2,3)]\n",
    "        noise = (2,3)\n",
    "        cmplx1_df = sd.df_gen(epoch_p=epoch_p, time_p=time_p, \n",
    "                       cat_p=cat_p, cont_p=cont_p, noise_p=noise)\n",
    "        return cmplx1_df\n",
    "    elif complexity == 'complex2':\n",
    "        epoch_p = (1,10)\n",
    "        time_p = (0,100,10)\n",
    "        cat_p = [(1,3),(2,5),(3,4)]\n",
    "        cont_p = [(10,15),(20,30)]\n",
    "        noise = (2.5,39)\n",
    "        cmplx2_df = sd.df_gen(epoch_p=epoch_p, time_p=time_p, \n",
    "                       cat_p=cat_p, cont_p=cont_p, noise_p=noise)\n",
    "        return cmplx2_df"
   ]
  },
  {
   "cell_type": "code",
   "execution_count": 79,
   "metadata": {},
   "outputs": [],
   "source": [
    "def sample_df():\n",
    "    epoch_p = (0,6)\n",
    "    time_p = (0,8,1)\n",
    "    cat_p = [(0,2), (5,7)]\n",
    "    cont_p = [(0,1)]\n",
    "    noise = (0,0)\n",
    "    df = sd.df_gen(epoch_p=epoch_p, time_p=time_p, \n",
    "                   cat_p=cat_p, cont_p=cont_p, noise_p=noise)\n",
    "    return epoch_p, time_p, cat_p, cont_p, df"
   ]
  },
  {
   "cell_type": "code",
   "execution_count": 31,
   "metadata": {},
   "outputs": [],
   "source": [
    "epoch_idx = epochs.index.levels[epochs.index.names.index('Epoch_idx')].tolist()"
   ]
  },
  {
   "cell_type": "code",
   "execution_count": 33,
   "metadata": {},
   "outputs": [],
   "source": [
    "epoch_idx\n",
    "start, end = epoch_p\n",
    "e = np.arange(start, end)\n",
    "assert (epoch_idx == e).all"
   ]
  },
  {
   "cell_type": "code",
   "execution_count": 27,
   "metadata": {},
   "outputs": [
    {
     "data": {
      "text/plain": [
       "[0, 1, 2, 3, 4, 5, 6, 7]"
      ]
     },
     "execution_count": 27,
     "metadata": {},
     "output_type": "execute_result"
    }
   ],
   "source": [
    "epoch_p, time_p, cat_p, cont_p, epochs = sample_df()\n",
    "times = epochs.index.levels[epochs.index.names.index('Time')].tolist()\n",
    "times"
   ]
  },
  {
   "cell_type": "code",
   "execution_count": 28,
   "metadata": {},
   "outputs": [],
   "source": [
    "start, end ,step = time_p\n",
    "t = np.arange(start, end, step)\n",
    "times = epochs.index.levels[epochs.index.names.index('Time')].tolist()\n",
    "assert (times == t).all"
   ]
  },
  {
   "cell_type": "code",
   "execution_count": 19,
   "metadata": {},
   "outputs": [],
   "source": [
    "assert (times == t).all"
   ]
  },
  {
   "cell_type": "code",
   "execution_count": 16,
   "metadata": {},
   "outputs": [],
   "source": [
    "import numpy as np\n",
    "start, end ,step = time_p\n",
    "t = np.arange(start, end, step)"
   ]
  },
  {
   "cell_type": "code",
   "execution_count": 53,
   "metadata": {},
   "outputs": [
    {
     "data": {
      "text/plain": [
       "[(0, 1)]"
      ]
     },
     "execution_count": 53,
     "metadata": {},
     "output_type": "execute_result"
    }
   ],
   "source": [
    "cont_p"
   ]
  },
  {
   "cell_type": "code",
   "execution_count": 80,
   "metadata": {},
   "outputs": [],
   "source": [
    "for i,range_set in enumerate(cont_p):\n",
    "    start = range_set[0]\n",
    "    end = range_set[1]\n",
    "    col_label = 'cont_' + str(i+1) + '_range' + str(start) + ',' + str(end)\n",
    "    assert ((epochs[col_label].values > start) & (epochs[col_label].values < end)).all"
   ]
  },
  {
   "cell_type": "code",
   "execution_count": 58,
   "metadata": {},
   "outputs": [
    {
     "data": {
      "text/html": [
       "<div>\n",
       "<style>\n",
       "    .dataframe thead tr:only-child th {\n",
       "        text-align: right;\n",
       "    }\n",
       "\n",
       "    .dataframe thead th {\n",
       "        text-align: left;\n",
       "    }\n",
       "\n",
       "    .dataframe tbody tr th {\n",
       "        vertical-align: top;\n",
       "    }\n",
       "</style>\n",
       "<table border=\"1\" class=\"dataframe\">\n",
       "  <thead>\n",
       "    <tr style=\"text-align: right;\">\n",
       "      <th></th>\n",
       "      <th></th>\n",
       "      <th></th>\n",
       "      <th></th>\n",
       "      <th>cat</th>\n",
       "      <th>cont_1_range0,1</th>\n",
       "      <th>data</th>\n",
       "    </tr>\n",
       "    <tr>\n",
       "      <th>Index</th>\n",
       "      <th>Epoch_idx</th>\n",
       "      <th>data_group</th>\n",
       "      <th>Time</th>\n",
       "      <th></th>\n",
       "      <th></th>\n",
       "      <th></th>\n",
       "    </tr>\n",
       "  </thead>\n",
       "  <tbody>\n",
       "    <tr>\n",
       "      <th rowspan=\"5\" valign=\"top\">id_10001</th>\n",
       "      <th rowspan=\"5\" valign=\"top\">0</th>\n",
       "      <th rowspan=\"5\" valign=\"top\">testing1</th>\n",
       "      <th>0</th>\n",
       "      <td>L_0_2</td>\n",
       "      <td>0.645002</td>\n",
       "      <td>0.0</td>\n",
       "    </tr>\n",
       "    <tr>\n",
       "      <th>1</th>\n",
       "      <td>L_0_2</td>\n",
       "      <td>0.325309</td>\n",
       "      <td>2.0</td>\n",
       "    </tr>\n",
       "    <tr>\n",
       "      <th>2</th>\n",
       "      <td>L_0_2</td>\n",
       "      <td>0.364768</td>\n",
       "      <td>4.0</td>\n",
       "    </tr>\n",
       "    <tr>\n",
       "      <th>3</th>\n",
       "      <td>L_0_2</td>\n",
       "      <td>0.971212</td>\n",
       "      <td>6.0</td>\n",
       "    </tr>\n",
       "    <tr>\n",
       "      <th>4</th>\n",
       "      <td>L_0_2</td>\n",
       "      <td>0.873982</td>\n",
       "      <td>8.0</td>\n",
       "    </tr>\n",
       "  </tbody>\n",
       "</table>\n",
       "</div>"
      ],
      "text/plain": [
       "                                      cat  cont_1_range0,1  data\n",
       "Index    Epoch_idx data_group Time                              \n",
       "id_10001 0         testing1   0     L_0_2         0.645002   0.0\n",
       "                              1     L_0_2         0.325309   2.0\n",
       "                              2     L_0_2         0.364768   4.0\n",
       "                              3     L_0_2         0.971212   6.0\n",
       "                              4     L_0_2         0.873982   8.0"
      ]
     },
     "execution_count": 58,
     "metadata": {},
     "output_type": "execute_result"
    }
   ],
   "source": [
    "epochs.head()"
   ]
  },
  {
   "cell_type": "code",
   "execution_count": 69,
   "metadata": {},
   "outputs": [
    {
     "data": {
      "text/plain": [
       "array([ 0,  2,  4,  6,  8, 10, 12, 14,  0,  2,  4,  6,  8, 10, 12, 14,  0,\n",
       "        2,  4,  6,  8, 10, 12, 14,  0,  2,  4,  6,  8, 10, 12, 14,  0,  2,\n",
       "        4,  6,  8, 10, 12, 14,  0,  2,  4,  6,  8, 10, 12, 14])"
      ]
     },
     "execution_count": 69,
     "metadata": {},
     "output_type": "execute_result"
    }
   ],
   "source": [
    "(np.tile(times,6) + 0) * 2"
   ]
  },
  {
   "cell_type": "code",
   "execution_count": 63,
   "metadata": {},
   "outputs": [
    {
     "data": {
      "text/plain": [
       "array([ 0.,  2.,  4.,  6.,  8., 10., 12., 14.,  0.,  2.,  4.,  6.,  8.,\n",
       "       10., 12., 14.,  0.,  2.,  4.,  6.,  8., 10., 12., 14.,  0.,  2.,\n",
       "        4.,  6.,  8., 10., 12., 14.,  0.,  2.,  4.,  6.,  8., 10., 12.,\n",
       "       14.,  0.,  2.,  4.,  6.,  8., 10., 12., 14.])"
      ]
     },
     "execution_count": 63,
     "metadata": {},
     "output_type": "execute_result"
    }
   ],
   "source": [
    "epochs[epochs['cat'] == 'L_0_2']['data'].values"
   ]
  },
  {
   "cell_type": "code",
   "execution_count": 81,
   "metadata": {},
   "outputs": [],
   "source": [
    "# test if column matches cont_p range\n",
    "def test_cat_p_match_data():\n",
    "    epoch_p, time_p, cat_p, cont_p, epochs = sample_df()\n",
    "    start, end = epoch_p\n",
    "    for cat in cat_p:\n",
    "        b0, b1 = cat[0], cat[1]\n",
    "        want_arr = (np.tile(times, end - start) + b0) * b1\n",
    "        label = 'L_' + str(b0) + '_' + str(b1)\n",
    "        act_arr = epochs[epochs['cat'] == label]['data'].values\n",
    "        assert (want_arr == act_arr).all"
   ]
  },
  {
   "cell_type": "code",
   "execution_count": 82,
   "metadata": {},
   "outputs": [],
   "source": [
    "test_cat_p_match_data()"
   ]
  },
  {
   "cell_type": "code",
   "execution_count": 76,
   "metadata": {},
   "outputs": [],
   "source": [
    "for cat in cat_p:\n",
    "    b0, b1 = cat[0], cat[1]"
   ]
  },
  {
   "cell_type": "code",
   "execution_count": 73,
   "metadata": {},
   "outputs": [],
   "source": [
    "test_cat_p_match_data()"
   ]
  },
  {
   "cell_type": "code",
   "execution_count": 49,
   "metadata": {},
   "outputs": [
    {
     "data": {
      "text/plain": [
       "'cont_1_range0,1'"
      ]
     },
     "execution_count": 49,
     "metadata": {},
     "output_type": "execute_result"
    }
   ],
   "source": [
    "col_label = 'cont_' + str(1) + '_range' + str(0) + ',' + str(1)\n",
    "col_label"
   ]
  },
  {
   "cell_type": "code",
   "execution_count": 45,
   "metadata": {},
   "outputs": [],
   "source": [
    "assert ((epochs['cont_1_range0,1'].values > 0) & (epochs['cont_1_range0,1'].values < 1)).all"
   ]
  },
  {
   "cell_type": "code",
   "execution_count": 83,
   "metadata": {},
   "outputs": [
    {
     "name": "stdout",
     "output_type": "stream",
     "text": [
      "subid: testing1\n"
     ]
    },
    {
     "name": "stderr",
     "output_type": "stream",
     "text": [
      "/usr/local/anaconda3/lib/python3.6/site-packages/statsmodels/stats/outliers_influence.py:309: RuntimeWarning: invalid value encountered in true_divide\n",
      "  return  self.results.resid / sigma / np.sqrt(1 - hii)\n",
      "/usr/local/anaconda3/lib/python3.6/site-packages/scipy/stats/_distn_infrastructure.py:879: RuntimeWarning: invalid value encountered in greater\n",
      "  return (self.a < x) & (x < self.b)\n",
      "/usr/local/anaconda3/lib/python3.6/site-packages/scipy/stats/_distn_infrastructure.py:879: RuntimeWarning: invalid value encountered in less\n",
      "  return (self.a < x) & (x < self.b)\n",
      "/usr/local/anaconda3/lib/python3.6/site-packages/scipy/stats/_distn_infrastructure.py:1821: RuntimeWarning: invalid value encountered in less_equal\n",
      "  cond2 = cond0 & (x <= self.a)\n"
     ]
    }
   ],
   "source": [
    "LHS = [\"data\"]\n",
    "RHS = \"cat\"\n",
    "fit_grids = fit_bucket.make_fit_table(epochs,LHS,RHS)"
   ]
  },
  {
   "cell_type": "code",
   "execution_count": 84,
   "metadata": {},
   "outputs": [
    {
     "data": {
      "text/plain": [
       "(8, 1, 1, 2)"
      ]
     },
     "execution_count": 84,
     "metadata": {},
     "output_type": "execute_result"
    }
   ],
   "source": [
    "fit_grids[0]['fit']['ci'].shape"
   ]
  },
  {
   "cell_type": "code",
   "execution_count": 97,
   "metadata": {},
   "outputs": [],
   "source": [
    "values = (np.tile(times,1) + 0) * 2"
   ]
  },
  {
   "cell_type": "code",
   "execution_count": 107,
   "metadata": {},
   "outputs": [
    {
     "name": "stdout",
     "output_type": "stream",
     "text": [
      "0 0\n"
     ]
    }
   ],
   "source": [
    "for i, val in enumerate(values): \n",
    "    print(i, val)\n",
    "    break"
   ]
  },
  {
   "cell_type": "code",
   "execution_count": 108,
   "metadata": {},
   "outputs": [],
   "source": [
    "for i, val in enumerate(values): \n",
    "    assert(fit_grids[0]['fit']['ci'][i][0][0] == [val,val]).all()"
   ]
  },
  {
   "cell_type": "code",
   "execution_count": 12,
   "metadata": {},
   "outputs": [],
   "source": [
    "assert(fit_grids[0]['fit']['ci'][0][0][0] == [0,0]).all()"
   ]
  },
  {
   "cell_type": "code",
   "execution_count": 92,
   "metadata": {},
   "outputs": [
    {
     "data": {
      "text/plain": [
       "array([[[[ 0.,  0.]]],\n",
       "\n",
       "\n",
       "       [[[ 2.,  2.]]],\n",
       "\n",
       "\n",
       "       [[[ 4.,  4.]]],\n",
       "\n",
       "\n",
       "       [[[ 6.,  6.]]],\n",
       "\n",
       "\n",
       "       [[[ 8.,  8.]]],\n",
       "\n",
       "\n",
       "       [[[10., 10.]]],\n",
       "\n",
       "\n",
       "       [[[12., 12.]]],\n",
       "\n",
       "\n",
       "       [[[14., 14.]]]], dtype=float32)"
      ]
     },
     "execution_count": 92,
     "metadata": {},
     "output_type": "execute_result"
    }
   ],
   "source": [
    "fit_grids[0]['fit']['ci'][:]"
   ]
  }
 ],
 "metadata": {
  "kernelspec": {
   "display_name": "Python 3",
   "language": "python",
   "name": "python3"
  },
  "language_info": {
   "codemirror_mode": {
    "name": "ipython",
    "version": 3
   },
   "file_extension": ".py",
   "mimetype": "text/x-python",
   "name": "python",
   "nbconvert_exporter": "python",
   "pygments_lexer": "ipython3",
   "version": "3.6.0"
  }
 },
 "nbformat": 4,
 "nbformat_minor": 2
}
