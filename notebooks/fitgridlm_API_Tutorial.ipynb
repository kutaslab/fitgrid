{
 "cells": [
  {
   "cell_type": "markdown",
   "metadata": {},
   "source": [
    "# fitgrid.lm() API Tutorial"
   ]
  },
  {
   "cell_type": "markdown",
   "metadata": {},
   "source": [
    "What exactly is in my_grid and how do I get it out for further analysis?\n",
    "\n",
    "1. first show what a stastmodel ols regression fit object looks like in the first place ... the big bundle of attributes and methods. Display some examples ... param, pvalue, influence to illustrate. I think statsmodels will be unfamiliar to many people and it is important to make the point that each \"fit\" is a fat object and not just a table of scalars.\n",
    "\n",
    "2. show how after fitgrid.lm() is run, the grid is a 2-D array of these fit objects ... show the shape, type, and head of the *grid*.\n",
    "\n",
    "3. show how the fit attributes are gridded, again show the shape, type, and, head of a few attributes.\n",
    "\n",
    "4. show how to use the row x column slicing syntax to access regions of the array in both dimensions\n",
    "\n",
    "5. show a few different kinds of examples to illustrate what data frames look like for grid queries that come back with a scalar (like p values) vs. those that don't like params, influence stats and such."
   ]
  },
  {
   "cell_type": "markdown",
   "metadata": {},
   "source": [
    "To understand the `fitgrid linear regression` and how to use it in analysis, the following describes a `fit` object and how `fitgrid.lm()` is structured. Examples of usage and data frame queries for statistical values of interest are also provided below. (via ``statsmodels``' ``ols``)"
   ]
  },
  {
   "cell_type": "markdown",
   "metadata": {},
   "source": [
    "## 1. Fit Object"
   ]
  },
  {
   "cell_type": "markdown",
   "metadata": {},
   "source": [
    "Following the initial fitgrid tutorial, here we are using the same set of data to understand a `fit` object. \n",
    "\n",
    "A `fit` object in this case stems from `statsmodels` ordinary least squares regression function."
   ]
  },
  {
   "cell_type": "code",
   "execution_count": null,
   "metadata": {},
   "outputs": [],
   "source": [
    "import fitgrid"
   ]
  },
  {
   "cell_type": "code",
   "execution_count": null,
   "metadata": {},
   "outputs": [],
   "source": [
    "# example_filename = 'example.h5'\n",
    "# epochs = fitgrid.epochs_from_hdf(\n",
    "epochs_df = fitgrid.generate().table.set_index('Time', append=True)\n",
    "epochs = fitgrid.epochs_from_dataframe(\n",
    "    epochs_df,\n",
    "    time='Time',\n",
    "    epoch_id='Epoch_idx',\n",
    "    channels=['channel0', 'channel1']\n",
    ")"
   ]
  },
  {
   "cell_type": "code",
   "execution_count": null,
   "metadata": {},
   "outputs": [],
   "source": [
    "import statsmodels.formula.api as smf"
   ]
  },
  {
   "cell_type": "code",
   "execution_count": null,
   "metadata": {},
   "outputs": [],
   "source": [
    "# consider at time 0 for channel0\n",
    "statsmodel_fit = smf.ols(formula= \"channel0 ~ continuous + categorical\", \n",
    "                         data=epochs.table[epochs.table['Time']==0]).fit()"
   ]
  },
  {
   "cell_type": "markdown",
   "metadata": {},
   "source": [
    "Using the $R$-style formula language, the statsmodels ordinary least squares function includes a function for `fit`. This outputs a `fit` object.\n",
    "\n",
    "An useful function for the `fit` object is examining the statistical properties of the ordinary least square regression. This conviniently outputs a summary table for the linear model you have constructed, which contains information such as the coefficients and p-values. "
   ]
  },
  {
   "cell_type": "code",
   "execution_count": null,
   "metadata": {},
   "outputs": [],
   "source": [
    "statsmodel_fit.summary()"
   ]
  },
  {
   "cell_type": "markdown",
   "metadata": {},
   "source": [
    "Notice we can also query the desired information, as they are an attribute of the `fit` object."
   ]
  },
  {
   "cell_type": "code",
   "execution_count": null,
   "metadata": {},
   "outputs": [],
   "source": [
    "# query the coefficients\n",
    "statsmodel_fit.params"
   ]
  },
  {
   "cell_type": "code",
   "execution_count": null,
   "metadata": {},
   "outputs": [],
   "source": [
    "# query the p-values\n",
    "statsmodel_fit.pvalues"
   ]
  },
  {
   "cell_type": "code",
   "execution_count": null,
   "metadata": {},
   "outputs": [],
   "source": [
    "# query the cooks distance\n",
    "statsmodel_influence = statsmodel_fit.get_influence()\n",
    "# look at the first 5 points' cook's distance\n",
    "statsmodel_influence.cooks_distance[0][0:5]"
   ]
  },
  {
   "cell_type": "markdown",
   "metadata": {},
   "source": [
    "From the first two examples you can see that the coefficients and p-values are attributes of the `fit` object, whereas the third example, getting the influence is a method of the `fit` object that contains detailed information of the influence of each point. One example of influence is examining the cook's distance, as queried above.\n",
    "\n",
    "The `fit` object contains useful information as attributes and methods that you may want to examine. <br>\n",
    "However, notice from the formula language, only **channel0** is used for this model. <br>\n",
    "To use the same data and predictors for a different channel, say **channel1**, using ``statsmodels``, you would have to run the model set-up again in order to produce the relevant `fit` object.\n",
    "\n",
    "This poses as a time and space consuming problem that `fitgrid.lm()` solves."
   ]
  },
  {
   "cell_type": "markdown",
   "metadata": {},
   "source": [
    "## 2. Fit Objects into a Grid"
   ]
  },
  {
   "cell_type": "markdown",
   "metadata": {},
   "source": [
    "`fitgrid.lm()` solves the problem through breaking up the formula into the right hand side (RHS) and the left hand side (LHS). \n",
    "\n",
    "* LHS: **response variables** in a list. This can be data stream(s) you are trying to model. In this example, it will be different channels.\n",
    "* RHS: **explanatory variables** that models every stream in the LHS. This one model will be used to analyze every response varaible in the LHS list. In this example, it will be both continuous and categorical."
   ]
  },
  {
   "cell_type": "code",
   "execution_count": null,
   "metadata": {},
   "outputs": [],
   "source": [
    "# set up the fitgrid linear model\n",
    "lm_grid = fitgrid.lm(epochs, LHS=['channel0', 'channel1'], RHS='continuous + categorical')"
   ]
  },
  {
   "cell_type": "markdown",
   "metadata": {},
   "source": [
    "Understanding a fit object, fitgrid.lm() stores exactly the fit objects into a **grid** form that is set up as time by channel. For example, for the example data, there are **100 time points** with results showing for **channel0** and **channel1**. \n",
    "\n",
    "`fitgid` is set up time x channels, or response variables, which in the example, is 100 x 2. <br>\n",
    "This is a two-dimensional array of `fit` objects.\n",
    "\n",
    "To see this clearer, you can simply print the object to look at the shape."
   ]
  },
  {
   "cell_type": "code",
   "execution_count": null,
   "metadata": {},
   "outputs": [],
   "source": [
    "lm_grid"
   ]
  },
  {
   "cell_type": "markdown",
   "metadata": {},
   "source": [
    "Notice that using `TAB` completion for lm_grid and statsmodel_fit above, we get the same attributes and methods."
   ]
  },
  {
   "cell_type": "markdown",
   "metadata": {},
   "source": [
    "The type of the fitgrid.lm() output is a so-called `LMFitGrid`, this is the grid based set-up object in which the statsmodels linear regression results wrapped in each cell of the grid."
   ]
  },
  {
   "cell_type": "code",
   "execution_count": null,
   "metadata": {},
   "outputs": [],
   "source": [
    "type(lm_grid)"
   ]
  },
  {
   "cell_type": "markdown",
   "metadata": {},
   "source": [
    "To look at the **exact same** object we are interested as the statsmodel_fit above, we can extract through the following:"
   ]
  },
  {
   "cell_type": "code",
   "execution_count": null,
   "metadata": {},
   "outputs": [],
   "source": [
    "# consider at time 0 for channel0\n",
    "lm_grid[0,'channel0']"
   ]
  },
  {
   "cell_type": "markdown",
   "metadata": {},
   "source": [
    "The desired values, for example the coefficients, p-values, and cook's distance, can be queried as follows. \n",
    "\n",
    "We note that the values are exactly the same as the `fit` object we queried above.\n",
    "\n",
    "Also note that when we query the summary, however, only the wrapper pointer will be printed.\n",
    "Summary for one may be useful to be printed, but for hundreds of models, it is unhelpful to print summary for all. \n",
    "Querying the desired output individually for the hundreds of models is better to evaluate the results."
   ]
  },
  {
   "cell_type": "code",
   "execution_count": null,
   "metadata": {},
   "outputs": [],
   "source": [
    "# query the summary\n",
    "print(lm_grid[0,'channel0'].summary())"
   ]
  },
  {
   "cell_type": "code",
   "execution_count": null,
   "metadata": {},
   "outputs": [],
   "source": [
    "# query the coefficients\n",
    "lm_grid[0,'channel0'].params"
   ]
  },
  {
   "cell_type": "code",
   "execution_count": null,
   "metadata": {},
   "outputs": [],
   "source": [
    "# query the p-values\n",
    "lm_grid[0,'channel0'].pvalues"
   ]
  },
  {
   "cell_type": "code",
   "execution_count": null,
   "metadata": {},
   "outputs": [],
   "source": [
    "# query the cook's distance\n",
    "time0_ch0_infl = lm_grid[0,'channel0'].get_influence()\n",
    "# look at the first 5 points' cook's distance\n",
    "time0_ch0_infl.cooks_distance[0:5]"
   ]
  },
  {
   "cell_type": "markdown",
   "metadata": {},
   "source": [
    "## 3. Fitgrid Attributes"
   ]
  },
  {
   "cell_type": "markdown",
   "metadata": {},
   "source": [
    "The benefit of using the `fitgrid` (a grid essentially with fit objects) is\n",
    "1. obtain results with multiple time points\n",
    "2. obtain results with multiple response variables\n",
    "3. slicing (will expand in section 4)"
   ]
  },
  {
   "cell_type": "markdown",
   "metadata": {},
   "source": [
    "Instead of only considering the data at time point 0 for the single **channel0**, `fitgrid.lm()` output allows query for multiple time points and multiple response variables. For example, we can query the coefficients and other attributes."
   ]
  },
  {
   "cell_type": "code",
   "execution_count": null,
   "metadata": {},
   "outputs": [],
   "source": [
    "# looking at the head of multiple time points and channels coefficients\n",
    "lm_grid.params.head(12)"
   ]
  },
  {
   "cell_type": "code",
   "execution_count": null,
   "metadata": {},
   "outputs": [],
   "source": [
    "# looking at the head of multiple time points and channels p-values\n",
    "lm_grid.pvalues.head(12)"
   ]
  },
  {
   "cell_type": "markdown",
   "metadata": {},
   "source": [
    "When extracting the shape, we can see that the example with 100 time points has 3 coefficients each: Intercept, categorical, continuous, and modeling for 2 channels: channel0 and channel1. <br>\n",
    "The resulting dataframe shape is 300 by 2 that contains the entirety of the results."
   ]
  },
  {
   "cell_type": "code",
   "execution_count": null,
   "metadata": {},
   "outputs": [],
   "source": [
    "# looking at the shape of the output\n",
    "lm_grid.params.shape"
   ]
  },
  {
   "cell_type": "code",
   "execution_count": null,
   "metadata": {},
   "outputs": [],
   "source": [
    "# looking at the type of the output\n",
    "type(lm_grid.params)"
   ]
  },
  {
   "cell_type": "markdown",
   "metadata": {},
   "source": [
    "To query more attributes, considering using `TAB` completion to get `fit` attributes and methods."
   ]
  },
  {
   "cell_type": "markdown",
   "metadata": {},
   "source": [
    "## 4. Slicing"
   ]
  },
  {
   "cell_type": "markdown",
   "metadata": {},
   "source": [
    "Since the `fitgrid` output that is organized time by channel (or response variables), we can slice out desired models and outputs.\n",
    "\n",
    "We are showcasing:\n",
    "1. single `fit` object slicing\n",
    "2. one dimensional time interval with one channel, or response variable\n",
    "3. two dimensional time interval by multiple channels, or response variables"
   ]
  },
  {
   "cell_type": "markdown",
   "metadata": {},
   "source": [
    "#### 4.1 single `fit` object slicing"
   ]
  },
  {
   "cell_type": "code",
   "execution_count": null,
   "metadata": {},
   "outputs": [],
   "source": [
    "# consider at time 2 for channel1\n",
    "lm_grid[2,'channel1']"
   ]
  },
  {
   "cell_type": "markdown",
   "metadata": {},
   "source": [
    "#### 4.2 1-D slicing"
   ]
  },
  {
   "cell_type": "code",
   "execution_count": null,
   "metadata": {},
   "outputs": [],
   "source": [
    "# slicing for all the time and one channel\n",
    "lm_grid[:,'channel0']"
   ]
  },
  {
   "cell_type": "code",
   "execution_count": null,
   "metadata": {},
   "outputs": [],
   "source": [
    "# slicing for time interval and one channel\n",
    "lm_grid[0:76,'channel0']"
   ]
  },
  {
   "cell_type": "code",
   "execution_count": null,
   "metadata": {},
   "outputs": [],
   "source": [
    "# plotting the coefficients for a time interval for a single channel\n",
    "lm_grid[0:48,'channel0'].plot_betas()"
   ]
  },
  {
   "cell_type": "markdown",
   "metadata": {},
   "source": [
    "#### 4.3 2-D slicing"
   ]
  },
  {
   "cell_type": "code",
   "execution_count": null,
   "metadata": {},
   "outputs": [],
   "source": [
    "# slicing for time interval and all channels\n",
    "lm_grid[0:76,:]"
   ]
  },
  {
   "cell_type": "code",
   "execution_count": null,
   "metadata": {},
   "outputs": [],
   "source": [
    "# plotting the adjusted R-squared for a time interval for both channels\n",
    "lm_grid[0:54,:].plot_adj_rsquared()"
   ]
  },
  {
   "cell_type": "markdown",
   "metadata": {},
   "source": [
    "## 5. Grid Query Examples"
   ]
  },
  {
   "cell_type": "markdown",
   "metadata": {},
   "source": [
    "Now that you have seen how to query the `fitgrid` and obtain `fit` objects. \n",
    "\n",
    "We move on to query examples for output of interests. <br>\n",
    "Generally we can think of the query outputs as two main categories: scalars and objects."
   ]
  },
  {
   "cell_type": "markdown",
   "metadata": {},
   "source": [
    "First we examine the scalar outputs. Examples of this would be coefficients and p-values. The results simple is stored into a pandas DataFrame for easy slicing and querying needs."
   ]
  },
  {
   "cell_type": "code",
   "execution_count": null,
   "metadata": {},
   "outputs": [],
   "source": [
    "# considering the type of objects\n",
    "type(lm_grid.params), type(lm_grid.pvalues)"
   ]
  },
  {
   "cell_type": "code",
   "execution_count": null,
   "metadata": {},
   "outputs": [],
   "source": [
    "# multi-index slicing grabbing the intercept coefficients for time 0\n",
    "lm_grid.params.loc[(0, 'Intercept')]"
   ]
  },
  {
   "cell_type": "markdown",
   "metadata": {},
   "source": [
    "We note the data type is float64 for coefficients, which is a **scalar** value. <br>\n",
    "The `fit` object not only has the scalar values, the `influence objects` shown below are also part of the fit object.\n",
    "To obtain the `influence object` from each `fit` object, you would have to use the method to **get** the influence and then you can query influence measures from there."
   ]
  },
  {
   "cell_type": "code",
   "execution_count": null,
   "metadata": {},
   "outputs": [],
   "source": [
    "# query the influence object\n",
    "infl_example = lm_grid[0:50,:].get_influence()"
   ]
  },
  {
   "cell_type": "code",
   "execution_count": null,
   "metadata": {},
   "outputs": [],
   "source": [
    "# the influence object is stored into influence grid\n",
    "type(infl_example)"
   ]
  },
  {
   "cell_type": "code",
   "execution_count": null,
   "metadata": {},
   "outputs": [],
   "source": [
    "# query the cook's distance \n",
    "infl_example.cooks_distance[15:25]"
   ]
  },
  {
   "cell_type": "markdown",
   "metadata": {},
   "source": [
    "Notice the influence grid is not the same as the `fit` grid. The attibutes in describing the influence is based on each singular point as the example above."
   ]
  }
 ],
 "metadata": {
  "kernelspec": {
   "display_name": "Python 3",
   "language": "python",
   "name": "python3"
  },
  "language_info": {
   "codemirror_mode": {
    "name": "ipython",
    "version": 3
   },
   "file_extension": ".py",
   "mimetype": "text/x-python",
   "name": "python",
   "nbconvert_exporter": "python",
   "pygments_lexer": "ipython3",
   "version": "3.6.8"
  }
 },
 "nbformat": 4,
 "nbformat_minor": 2
}
