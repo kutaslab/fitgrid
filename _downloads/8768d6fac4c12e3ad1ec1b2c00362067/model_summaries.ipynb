{
  "cells": [
    {
      "cell_type": "code",
      "execution_count": null,
      "metadata": {
        "collapsed": false
      },
      "outputs": [],
      "source": [
        "%matplotlib inline"
      ]
    },
    {
      "cell_type": "markdown",
      "metadata": {},
      "source": [
        "# Model summary dataframes\n\n\nWhereas ``fitgrid.lm()`` and ``fitgrid.lmer()`` return all the\navailable fit information as LMFitGrid or LMERFitGrid object,\nrespectively, the ``fitgrid.utils.summary.summarize()`` function\ngathers a useful subset into a tidy indexed pandas.Dataframe.\n\nThe summary dataframe row and column indexing is standardized, so\nsummaries for different models and model sets can be conveniently\nsplit and stacked with ordinary pandas index slicing and dataframe\nconcatenation.\n\nA list of model formulas can be summarized, in\nwhich case their summaries are stacked and returned in a single\ndataframe.\n"
      ]
    },
    {
      "cell_type": "code",
      "execution_count": null,
      "metadata": {
        "collapsed": false
      },
      "outputs": [],
      "source": [
        "import fitgrid\n\n# a small random data set for illustration\nepochs_fg = fitgrid.generate(n_samples=8, n_channels=4, seed=32)"
      ]
    },
    {
      "cell_type": "markdown",
      "metadata": {},
      "source": [
        "Fit the OLS model ... get an LMFitGrid object\n\n"
      ]
    },
    {
      "cell_type": "code",
      "execution_count": null,
      "metadata": {
        "collapsed": false
      },
      "outputs": [],
      "source": [
        "fitgrid.lm(epochs_fg, LHS=epochs_fg.channels, RHS=\"1 + continuous\", quiet=True)"
      ]
    },
    {
      "cell_type": "markdown",
      "metadata": {},
      "source": [
        "Summarize the OLS model ... get a pandas.DataFrame\n\n"
      ]
    },
    {
      "cell_type": "code",
      "execution_count": null,
      "metadata": {
        "collapsed": false
      },
      "outputs": [],
      "source": [
        "fitgrid.utils.summary.summarize(\n    epochs_fg,\n    modeler=\"lm\",\n    LHS=epochs_fg.channels,\n    RHS=[\"1 + continuous\"],\n    quiet=True,\n)"
      ]
    },
    {
      "cell_type": "markdown",
      "metadata": {},
      "source": [
        "Summarize a **stack** of OLS models ... get a pandas.DataFrame with at **stack** of summaries\n\n"
      ]
    },
    {
      "cell_type": "code",
      "execution_count": null,
      "metadata": {
        "collapsed": false
      },
      "outputs": [],
      "source": [
        "fitgrid.utils.summary.summarize(\n    epochs_fg,\n    modeler=\"lm\",\n    LHS=epochs_fg.channels,\n    RHS=[\"1 + continuous\", \"1 + categorical\"],\n    quiet=True,\n)"
      ]
    },
    {
      "cell_type": "markdown",
      "metadata": {},
      "source": [
        "Same goes for LMER models and model stacks ...\n\n"
      ]
    },
    {
      "cell_type": "code",
      "execution_count": null,
      "metadata": {
        "collapsed": false
      },
      "outputs": [],
      "source": [
        "fitgrid.utils.summary.summarize(\n    epochs_fg,\n    modeler=\"lmer\",\n    LHS=epochs_fg.channels,\n    RHS=[\n        \"1 + categorical + (continuous | categorical)\",\n        \"1 + continuous + (1 | categorical)\",\n    ],\n    parallel=True,\n    n_cores=2,\n    quiet=True,\n)"
      ]
    }
  ],
  "metadata": {
    "kernelspec": {
      "display_name": "Python 3",
      "language": "python",
      "name": "python3"
    },
    "language_info": {
      "codemirror_mode": {
        "name": "ipython",
        "version": 3
      },
      "file_extension": ".py",
      "mimetype": "text/x-python",
      "name": "python",
      "nbconvert_exporter": "python",
      "pygments_lexer": "ipython3",
      "version": "3.8.12"
    }
  },
  "nbformat": 4,
  "nbformat_minor": 0
}