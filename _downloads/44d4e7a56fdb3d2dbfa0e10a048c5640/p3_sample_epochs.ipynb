{
  "cells": [
    {
      "cell_type": "code",
      "execution_count": null,
      "metadata": {
        "collapsed": false
      },
      "outputs": [],
      "source": [
        "%matplotlib inline"
      ]
    },
    {
      "cell_type": "markdown",
      "metadata": {},
      "source": [
        "\n# EEG sample epochs\n"
      ]
    },
    {
      "cell_type": "markdown",
      "metadata": {},
      "source": [
        "These are the EEG data used in the `workflow`\n\n**Experimental design.** These data are single-trial EEG epochs\nrecorded at 250 digital samples per second from one individual in an\nauditory \"oddball\" paradigm.  The stimuli are a random\nsequence of high and low pitched tones (*tone*: *hi*, *lo*) that are\nfrequent or infrequent (*stim*: *standard*, *target*). Stimulus trials are\npresented in two blocks: the *hi* tones are the infrequent targets in the first\nblock and frequent standards in the second.  The task is to respond to the\ninfrequent tones.  In this type of paradigm, the average potentials\nrecorded over central and posterior scalp after about 300 ms\npost-stimulus are typically more positive going for the rare targets\nthan for the frequent standards, a P300 ERP effect.\n\n"
      ]
    },
    {
      "cell_type": "code",
      "execution_count": null,
      "metadata": {
        "collapsed": false
      },
      "outputs": [],
      "source": [
        "from matplotlib import pyplot as plt\nimport pandas as pd\nfrom fitgrid import DATA_DIR, sample_data\n\n\n# download the epochs data and read into a pd.DataFrame\nsample_data.get_file(\"sub000p3.ms1500.epochs.feather\")\np3_epochs_df = pd.read_feather(DATA_DIR / \"sub000p3.ms1500.epochs.feather\")\n\n# select the experimental stimulus trials for modeling\np3_epochs_df = p3_epochs_df.query(\"stim in ['standard', 'target']\")\n\n# look up the data QC flags and select the good epochs\ngood_epochs = p3_epochs_df.query(\"match_time == 0 and log_flags == 0\")[\n    \"epoch_id\"\n]\np3_epochs_df = p3_epochs_df.query(\"epoch_id in @good_epochs\")\n\n# the original time stamp column name is obscure, rename for clarity\np3_epochs_df.rename(columns={\"match_time\": \"time_ms\"}, inplace=True)\n\n# select columns of interest for modeling\nindices = [\"epoch_id\", \"time_ms\"]\npredictors = [\"stim\", \"tone\"]  # stim=standard, target; tone=hi, lo\nchannels = [\"MiPf\", \"MiCe\", \"MiPa\", \"MiOc\"]  # midline electrodes\np3_epochs_df = p3_epochs_df[indices + predictors + channels]\n\n# set the epoch and time column index for fg.Epochs\np3_epochs_df.set_index([\"epoch_id\", \"time_ms\"], inplace=True)\n\n# \"baseline\", i.e., center each epoch on the pre-stimulus interval\ncentered = []\nfor epoch_id, vals in p3_epochs_df.groupby(\"epoch_id\"):\n    centered.append(\n        vals[channels] - vals[channels].query(\"time_ms < 0\").mean()\n    )\np3_epochs_df[channels] = pd.concat(centered)\n\n# done ...\np3_epochs_df"
      ]
    },
    {
      "cell_type": "markdown",
      "metadata": {},
      "source": [
        "These time-domain average ERPs can be computed with `fitgrid`, see `average_erps`.\n\n"
      ]
    },
    {
      "cell_type": "code",
      "execution_count": null,
      "metadata": {
        "collapsed": false
      },
      "outputs": [],
      "source": [
        "fig, axs = plt.subplots(2, 1, figsize=(8, 8))\nfor axi, (condition, vals) in enumerate(p3_epochs_df.groupby(\"stim\")):\n    vals.groupby(\"time_ms\").mean().plot(ax=axs[axi])\n    axs[axi].set_title(f\"{condition}\")"
      ]
    }
  ],
  "metadata": {
    "kernelspec": {
      "display_name": "Python 3",
      "language": "python",
      "name": "python3"
    },
    "language_info": {
      "codemirror_mode": {
        "name": "ipython",
        "version": 3
      },
      "file_extension": ".py",
      "mimetype": "text/x-python",
      "name": "python",
      "nbconvert_exporter": "python",
      "pygments_lexer": "ipython3",
      "version": "3.8.12"
    }
  },
  "nbformat": 4,
  "nbformat_minor": 0
}