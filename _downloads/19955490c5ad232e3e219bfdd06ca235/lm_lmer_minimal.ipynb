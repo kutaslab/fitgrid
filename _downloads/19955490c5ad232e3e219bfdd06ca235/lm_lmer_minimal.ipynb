{
  "cells": [
    {
      "cell_type": "code",
      "execution_count": null,
      "metadata": {
        "collapsed": false
      },
      "outputs": [],
      "source": [
        "%matplotlib inline"
      ]
    },
    {
      "cell_type": "markdown",
      "metadata": {},
      "source": [
        "# Ordinary least squares andlinear mixed-effects: minimal examples\n\nOLS and mixed-effect models are specified by model formulas. The\nresults returned by `statstmodels` for OLS and `lme4::lmer` for\nmixed-effcts models populate the `FitGrid[time, channels]` object. The\n`FitGrid` can be sliced by times or channels with `pandas` index\nslicing. The results are accessed via the fit object attributes and\nreturned as a `pandas.DataFrame` or another `FitGrid`\n"
      ]
    },
    {
      "cell_type": "markdown",
      "metadata": {},
      "source": [
        "## Generate simulated data and load `fitgrid.Epochs`\n\n"
      ]
    },
    {
      "cell_type": "code",
      "execution_count": null,
      "metadata": {
        "collapsed": false
      },
      "outputs": [],
      "source": [
        "import fitgrid\n\nepochs_df = fitgrid.generate(\n    n_samples=6, n_channels=4, return_type=\"dataframe\"\n)\nepochs_df.set_index([\"epoch_id\", \"time\"], inplace=True)\nepochs_fg = fitgrid.epochs_from_dataframe(\n    epochs_df,\n    epoch_id=\"epoch_id\",\n    time=\"time\",\n    channels=[\"channel0\", \"channel1\"],\n)"
      ]
    },
    {
      "cell_type": "markdown",
      "metadata": {},
      "source": [
        "## Ordinary least squares (OLS)\n\nThese models are specified with `patsy` Python formulas like `lm` in R. The\nresults come back from `statsmodels`\n\n"
      ]
    },
    {
      "cell_type": "code",
      "execution_count": null,
      "metadata": {
        "collapsed": false
      },
      "outputs": [],
      "source": [
        "lm_grid = fitgrid.lm(epochs_fg, RHS='1 + categorical + continuous', quiet=True)"
      ]
    },
    {
      "cell_type": "markdown",
      "metadata": {},
      "source": [
        "Query and display OLS parameters\n\n"
      ]
    },
    {
      "cell_type": "code",
      "execution_count": null,
      "metadata": {
        "collapsed": false
      },
      "outputs": [],
      "source": [
        "lm_grid.params"
      ]
    },
    {
      "cell_type": "markdown",
      "metadata": {},
      "source": [
        "Query and display praameter standard errors\n\n"
      ]
    },
    {
      "cell_type": "code",
      "execution_count": null,
      "metadata": {
        "collapsed": false
      },
      "outputs": [],
      "source": [
        "lm_grid.bse"
      ]
    },
    {
      "cell_type": "code",
      "execution_count": null,
      "metadata": {
        "collapsed": false
      },
      "outputs": [],
      "source": [
        "params = lm_grid.params\nparams.index = params.index.set_names([\"time\", \"params\"])\nfor param, vals in params.groupby(\"params\"):\n    ax = vals.reset_index(\"params\", drop=True).plot()\n    ax.set_title(param)"
      ]
    },
    {
      "cell_type": "markdown",
      "metadata": {},
      "source": [
        "## Linear mixed effects (LMER)\n\nThese models are specified with `lme4::lmer` R formulas and the results come back\nas `pymer4` objects from the `lmer results`.\n\n"
      ]
    },
    {
      "cell_type": "markdown",
      "metadata": {},
      "source": [
        "Fit a mixed-effects model with `lme4::lmer` via `pymer4`\n\n"
      ]
    },
    {
      "cell_type": "code",
      "execution_count": null,
      "metadata": {
        "collapsed": false
      },
      "outputs": [],
      "source": [
        "lmer_grid = fitgrid.lmer(\n    epochs_fg, RHS='1 + continuous + (continuous | categorical)', quiet=True\n)"
      ]
    },
    {
      "cell_type": "markdown",
      "metadata": {},
      "source": [
        "Query and display some lme4::lmer fit results\n\n"
      ]
    },
    {
      "cell_type": "code",
      "execution_count": null,
      "metadata": {
        "collapsed": false
      },
      "outputs": [],
      "source": [
        "lmer_grid.coefs"
      ]
    }
  ],
  "metadata": {
    "kernelspec": {
      "display_name": "Python 3",
      "language": "python",
      "name": "python3"
    },
    "language_info": {
      "codemirror_mode": {
        "name": "ipython",
        "version": 3
      },
      "file_extension": ".py",
      "mimetype": "text/x-python",
      "name": "python",
      "nbconvert_exporter": "python",
      "pygments_lexer": "ipython3",
      "version": "3.8.8"
    }
  },
  "nbformat": 4,
  "nbformat_minor": 0
}