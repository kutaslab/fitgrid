{
  "cells": [
    {
      "cell_type": "code",
      "execution_count": null,
      "metadata": {
        "collapsed": false
      },
      "outputs": [],
      "source": [
        "%matplotlib inline"
      ]
    },
    {
      "cell_type": "markdown",
      "metadata": {},
      "source": [
        "# Ordinary least squares and linear mixed-effects: minimal examples\n\nOLS and mixed-effect models are specified by model formulas. The\nresults returned by ``statstmodels`` for OLS and ``lme4::lmer`` for\nmixed-effcts models populate the :py:class:`FitGrid\n<fitgrid.fitgrid.FitGrid>` object. The :py:class:`FitGrid[times, channels]\n<fitgrid.fitgrid.FitGrid>` can be sliced by\ntimes or channels with ``pandas`` index slicing. The results are\naccessed via the fit object attributes and returned as a\n``pandas.DataFrame`` or another :py:class:`FitGrid[times, channels]\n<fitgrid.fitgrid.FitGrid>`.\n"
      ]
    },
    {
      "cell_type": "markdown",
      "metadata": {},
      "source": [
        "## Generate simulated data and load :py:class:`Epochs <fitgrid.epochs.Epochs>`\n\n"
      ]
    },
    {
      "cell_type": "code",
      "execution_count": null,
      "metadata": {
        "collapsed": false
      },
      "outputs": [],
      "source": [
        "import fitgrid\n\nepochs_df = fitgrid.generate(\n    n_samples=6, n_channels=4, return_type=\"dataframe\"\n)\nepochs_df.set_index([\"epoch_id\", \"time\"], inplace=True)\nepochs_fg = fitgrid.epochs_from_dataframe(\n    epochs_df,\n    epoch_id=\"epoch_id\",\n    time=\"time\",\n    channels=[\"channel0\", \"channel1\"],\n)"
      ]
    },
    {
      "cell_type": "markdown",
      "metadata": {},
      "source": [
        "## Ordinary least squares (OLS)\n\nThese models are specified with :std:doc:`patsy <patsy:index>` Python formulas like ``lm`` in ``R``. The\nresults come back via ``statsmodels`` as :py:class:`FitGrid[times, channels]\n<fitgrid.fitgrid.FitGrid>` objects populated with :py:class:`linear_model.RegressionResults\n<statsmodels.regression.linear_model.RegressionResults>`.\n\n"
      ]
    },
    {
      "cell_type": "code",
      "execution_count": null,
      "metadata": {
        "collapsed": false
      },
      "outputs": [],
      "source": [
        "lm_grid = fitgrid.lm(epochs_fg, RHS='1 + categorical + continuous', quiet=True)"
      ]
    },
    {
      "cell_type": "markdown",
      "metadata": {},
      "source": [
        "Query and display OLS parameters\n\n"
      ]
    },
    {
      "cell_type": "code",
      "execution_count": null,
      "metadata": {
        "collapsed": false
      },
      "outputs": [],
      "source": [
        "lm_grid.params"
      ]
    },
    {
      "cell_type": "markdown",
      "metadata": {},
      "source": [
        "Query and display parameter standard errors\n\n"
      ]
    },
    {
      "cell_type": "code",
      "execution_count": null,
      "metadata": {
        "collapsed": false
      },
      "outputs": [],
      "source": [
        "lm_grid.bse"
      ]
    },
    {
      "cell_type": "code",
      "execution_count": null,
      "metadata": {
        "collapsed": false
      },
      "outputs": [],
      "source": [
        "params = lm_grid.params\nparams.index = params.index.set_names([\"time\", \"params\"])\nfor param, vals in params.groupby(\"params\"):\n    ax = vals.reset_index(\"params\", drop=True).plot()\n    ax.set_title(param)"
      ]
    },
    {
      "cell_type": "markdown",
      "metadata": {},
      "source": [
        "## Linear mixed effects (LMER)\n\nThese models are specified with ``lme4::lmer`` R formulas and the\nresults come back via ``pymer4`` as :py:class:`FitGrid[times,\nchannels] <fitgrid.fitgrid.FitGrid>` objects populated with\n:py:class:`Lmer <pymer4.models.Lmer>` objects from the\n``lme4::lmer`` and ``lmerTest`` results.\n\n"
      ]
    },
    {
      "cell_type": "markdown",
      "metadata": {},
      "source": [
        "Fit a mixed-effects model with `lme4::lmer` via `pymer4`\n\n"
      ]
    },
    {
      "cell_type": "code",
      "execution_count": null,
      "metadata": {
        "collapsed": false
      },
      "outputs": [],
      "source": [
        "lmer_grid = fitgrid.lmer(\n    epochs_fg, RHS='1 + continuous + (continuous | categorical)', quiet=True\n)"
      ]
    },
    {
      "cell_type": "markdown",
      "metadata": {},
      "source": [
        "Query and display some lme4::lmer fit results\n\n"
      ]
    },
    {
      "cell_type": "code",
      "execution_count": null,
      "metadata": {
        "collapsed": false
      },
      "outputs": [],
      "source": [
        "lmer_grid.coefs"
      ]
    }
  ],
  "metadata": {
    "kernelspec": {
      "display_name": "Python 3",
      "language": "python",
      "name": "python3"
    },
    "language_info": {
      "codemirror_mode": {
        "name": "ipython",
        "version": 3
      },
      "file_extension": ".py",
      "mimetype": "text/x-python",
      "name": "python",
      "nbconvert_exporter": "python",
      "pygments_lexer": "ipython3",
      "version": "3.8.12"
    }
  },
  "nbformat": 4,
  "nbformat_minor": 0
}