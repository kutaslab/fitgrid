{
  "cells": [
    {
      "cell_type": "code",
      "execution_count": null,
      "metadata": {
        "collapsed": false
      },
      "outputs": [],
      "source": [
        "%matplotlib inline"
      ]
    },
    {
      "cell_type": "markdown",
      "metadata": {},
      "source": [
        "# LMER warning grids\n\nThe modeling at each cell in a fitted LMERFitGrid may generate\nvarious numbers and types of lme4::lmer warnings.\n\nThe examples here illustrate how to collect and visualize them with\nfitgrid utilities.\n"
      ]
    },
    {
      "cell_type": "code",
      "execution_count": null,
      "metadata": {
        "collapsed": false
      },
      "outputs": [],
      "source": [
        "import fitgrid"
      ]
    },
    {
      "cell_type": "markdown",
      "metadata": {},
      "source": [
        "To illustrate, we use a small random data set and silly model to\ngenerate lots of different warnings.\n\n"
      ]
    },
    {
      "cell_type": "code",
      "execution_count": null,
      "metadata": {
        "collapsed": false
      },
      "outputs": [],
      "source": [
        "epochs_fg = fitgrid.generate(n_samples=8, n_channels=4, seed=32)\n\nlmer_grid = fitgrid.lmer(\n    epochs_fg,\n    LHS=epochs_fg.channels,\n    RHS=\"categorical + (continuous | categorical)\",\n    parallel=True,\n    n_cores=2,\n    quiet=True,\n)"
      ]
    },
    {
      "cell_type": "markdown",
      "metadata": {},
      "source": [
        "## :py:func:`fitgrid.utils.lmer.get_lmer_warnings`\n\nThe ``get_lmer_warnings()`` utility collects the warnings and\nreturns them as an ordinary Python dictionary.  Each warning message\nis a key and its value is a time x channel indicator grid of 0s, and\n1s: the 1s show which grid cells have the warning.\n\n"
      ]
    },
    {
      "cell_type": "code",
      "execution_count": null,
      "metadata": {
        "collapsed": false
      },
      "outputs": [],
      "source": [
        "lmer_warnings = fitgrid.utils.lmer.get_lmer_warnings(lmer_grid)\nfor key, val in lmer_warnings.items():\n    print(key, \"\\n\", val)"
      ]
    },
    {
      "cell_type": "markdown",
      "metadata": {},
      "source": [
        "## :py:func:`fitgrid.utils.lmer.get_lmer_warnings`\n\nThe ``plot_lmer_warnings()`` utility visualizes the warning grids.\n\nThe warnings can be displayed in different ways with ``which=...`` keyword argument.\n\nThe default (``which=\"each\"``) plots each type of warning in a separate figure.\n\n"
      ]
    },
    {
      "cell_type": "code",
      "execution_count": null,
      "metadata": {
        "collapsed": false
      },
      "outputs": [],
      "source": [
        "fitgrid.utils.lmer.plot_lmer_warnings(lmer_grid)"
      ]
    },
    {
      "cell_type": "markdown",
      "metadata": {},
      "source": [
        "Stacking all the warning grids into one summary grid (``which=\"all\"``)\nshows immediately which grid cells have warnings and which do not.\n\n"
      ]
    },
    {
      "cell_type": "code",
      "execution_count": null,
      "metadata": {
        "collapsed": false
      },
      "outputs": [],
      "source": [
        "fitgrid.utils.lmer.plot_lmer_warnings(\n    lmer_grid,\n    which=\"all\",\n)"
      ]
    },
    {
      "cell_type": "markdown",
      "metadata": {},
      "source": [
        "Specific warnings can be selected by matching a portion of the\nwarning message text.\n\n"
      ]
    },
    {
      "cell_type": "code",
      "execution_count": null,
      "metadata": {
        "collapsed": false
      },
      "outputs": [],
      "source": [
        "fitgrid.utils.lmer.plot_lmer_warnings(lmer_grid, which=[\"Hessian\"])"
      ]
    },
    {
      "cell_type": "markdown",
      "metadata": {},
      "source": [
        "<div class=\"alert alert-danger\"><h4>Warning</h4><p>Watch out for typos when selecting LMER warnings to plot, the text must match some\n   part of the warning message exactly.</p></div>\n\nThis selection finds no convergence warnings.\n\n"
      ]
    },
    {
      "cell_type": "code",
      "execution_count": null,
      "metadata": {
        "collapsed": false
      },
      "outputs": [],
      "source": [
        "fitgrid.utils.lmer.plot_lmer_warnings(lmer_grid, which=[\"converges\"])"
      ]
    },
    {
      "cell_type": "markdown",
      "metadata": {},
      "source": [
        "They were missed because \"converges\" doesn't match \"converge:\" or\n\"converge \" in the warning messages.\n\n"
      ]
    },
    {
      "cell_type": "code",
      "execution_count": null,
      "metadata": {
        "collapsed": false
      },
      "outputs": [],
      "source": [
        "fitgrid.utils.lmer.plot_lmer_warnings(lmer_grid, which=[\"converge\"])"
      ]
    }
  ],
  "metadata": {
    "kernelspec": {
      "display_name": "Python 3",
      "language": "python",
      "name": "python3"
    },
    "language_info": {
      "codemirror_mode": {
        "name": "ipython",
        "version": 3
      },
      "file_extension": ".py",
      "mimetype": "text/x-python",
      "name": "python",
      "nbconvert_exporter": "python",
      "pygments_lexer": "ipython3",
      "version": "3.8.12"
    }
  },
  "nbformat": 4,
  "nbformat_minor": 0
}