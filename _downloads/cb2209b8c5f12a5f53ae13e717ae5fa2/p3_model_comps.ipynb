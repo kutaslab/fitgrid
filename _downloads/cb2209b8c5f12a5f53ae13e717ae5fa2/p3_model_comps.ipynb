{
  "cells": [
    {
      "cell_type": "code",
      "execution_count": null,
      "metadata": {
        "collapsed": false
      },
      "outputs": [],
      "source": [
        "%matplotlib inline"
      ]
    },
    {
      "cell_type": "markdown",
      "metadata": {},
      "source": [
        "# AIC and likelihood ratio model comparison\n\nThere are many approaches to comparing models and evaluating relative\ngoodness-of-fit. The `FitGrid[time, channe]` query mechanism is\ndesigned to streamline the computations for whatever approach is\ndeemed appropriate for the research question at hand..\n\n\nThe AIC example demonstrates the `fitgrid.utils.summarize` function, a\nconvenience wrapper that fits a list of models and returns key summary\ninformation for each as an indexed data frame. The summary may be\npassed to a function for visualizing the AIC\n$\\mathsf{\\Delta_{min}}$ model comparison ([BurAnd2004]_) as\nshown, or processed by custom user routines as needed.\n\nFor cases where the summary information is insufficient, the\nlikelihood ratio example illustrates how to compute and visualize a\nmodel comparison measure derived from the original fitted grids. Other\nmeasures may be computed in a similar manner.\n"
      ]
    },
    {
      "cell_type": "markdown",
      "metadata": {},
      "source": [
        "## Prepare sample data\n\n"
      ]
    },
    {
      "cell_type": "code",
      "execution_count": null,
      "metadata": {
        "collapsed": false
      },
      "outputs": [],
      "source": [
        "import pandas as pd\nfrom matplotlib import pyplot as plt\nimport fitgrid as fg\nfrom fitgrid import DATA_DIR, sample_data\n\nsample_data.get_file(\"sub000p3.ms1500.epochs.feather\")\np3_epochs_df = pd.read_feather(DATA_DIR / \"sub000p3.ms1500.epochs.feather\")\n\n# drop calibration pulses for these examples\np3_epochs_df = p3_epochs_df.query(\"stim != 'cal'\")\n\n# look up the data QC flags and select the good epochs\ngood_epochs = p3_epochs_df.query(\"match_time == 0 and log_flags == 0\")[\n    \"epoch_id\"\n]\np3_epochs_df = p3_epochs_df.query(\"epoch_id in @good_epochs\")\n\n# rename the time stamp column\np3_epochs_df.rename(columns={\"match_time\": \"time_ms\"}, inplace=True)\n\n# select columns of interest for modeling\nindices = [\"epoch_id\", \"time_ms\"]\npredictors = [\"stim\", \"tone\"]  # categorical with 2 levels: standard, target\nchannels = [\"MiPf\", \"MiCe\", \"MiPa\", \"MiOc\"]  # midline electrodes\np3_epochs_df = p3_epochs_df[indices + predictors + channels]\n\n# set the epoch and time column index for fg.Epochs\np3_epochs_df.set_index([\"epoch_id\", \"time_ms\"], inplace=True)\n\n# \"baseline\", i.e., center each epoch on the 200 ms pre-stimulus interval\ncentered = []\nfor epoch_id, vals in p3_epochs_df.groupby(\"epoch_id\"):\n    centered.append(\n        vals[channels]\n        - vals[channels].query(\"time_ms >= -200 and time_ms < 0\").mean()\n    )\np3_epochs_df[channels] = pd.concat(centered)\n\n# slice epochs down to a shorter interval\np3_epochs_df.query(\"time_ms >= -200 and time_ms <= 600\", inplace=True)\np3_epochs_df"
      ]
    },
    {
      "cell_type": "markdown",
      "metadata": {},
      "source": [
        "## Ingest as `fitgrid.Epochs`\n\n"
      ]
    },
    {
      "cell_type": "code",
      "execution_count": null,
      "metadata": {
        "collapsed": false
      },
      "outputs": [],
      "source": [
        "p3_epochs_fg = fg.epochs_from_dataframe(\n    p3_epochs_df, epoch_id=\"epoch_id\", time=\"time_ms\", channels=channels\n)"
      ]
    },
    {
      "cell_type": "markdown",
      "metadata": {},
      "source": [
        "## Model summaries\n\nThe `fitgrid.utils.summarize` function is a convenience wrapper that fits\na list of models and collects a few key summary measures into\na single dataframe indexed by model, beta estimate, and the measure.\nIt supports OLS and LME model fitting and the summaries are\nreturned are in the same format.\n\nThis experimental design is a fully crossed 2 (stim: standard, target)\n$\\times$ 2 (tone: hi, lo). The predictors are treatment coded (`patsy` default).\n\nHere is a stack of 5 models to summarize and compare:\n\n"
      ]
    },
    {
      "cell_type": "code",
      "execution_count": null,
      "metadata": {
        "collapsed": false
      },
      "outputs": [],
      "source": [
        "rhss_T = [\n    \"1 + stim + tone + stim:tone\",  # long form of \"stim * tone\"\n    \"1 + stim + tone\",\n    \"1 + stim\",\n    \"1 + tone\",\n    \"1\",\n]"
      ]
    },
    {
      "cell_type": "code",
      "execution_count": null,
      "metadata": {
        "collapsed": false
      },
      "outputs": [],
      "source": [
        "from fitgrid.utils.summary import summarize\n\nlm_summary_T = summarize(\n    p3_epochs_fg, modeler=\"lm\", RHS=rhss_T, LHS=channels, parallel=False\n)\nlm_summary_T"
      ]
    },
    {
      "cell_type": "markdown",
      "metadata": {},
      "source": [
        "## AIC model comparison: $\\Delta_{i} = \\mathsf{AIC}_{i} - \\mathsf{AIC_{min}}$\n\nAkiakie's information criterion (AIC) increases with residual error\nand the number of model parameters so comparison on AIC favors the\nbetter fitting, more parsimonious models with lower AIC values.\n\nThis example visualizes the channel-wise time course of\n$\\Delta_{i} = \\mathsf{AIC}_{i} - \\mathsf{AIC_{min}}$, a\nmeasure of the AIC of model *i* vs. the lowest AIC of any model in\nthe set. Burnham and Anderson propose\nheuristics where models with $\\Delta_{i}$ around 4 are less well\nsupported by the data than the alternative(s) and models with $\\Delta_{i}$\n> 7 substantially less so.\n\nIn the next figure, the line plots (left column) and raster plots\n(right column) show the same data in different ways.  Higher\namplitude line plots and corresponding darker shades of blue in the\nraster plot indicate that the model's AIC is higher than the best\ncandidate in the set.\n\n**Prestimulus.** Prior to stimulus onset at time = 0, the more\nparsimonious models (bottom three rows) have systematically lower\nAIC values (broad regions of lighest blue) than the more complex\nmodels (top two rows). This indicates that during this interval, the\npredictor variables alone and in combination do not soak up enough\nvariability to offset the penalty for increasing the model\ncomplexity. In terms of this AIC measure, none of the models appear\nsystematically better supported by the data than the null model\n(bottom row) in the prestimulus interval.\n\n**Post-stimulus.** In the interval between around 300 - 375 ms\npoststimulus, the full model that includes `stim` and `tone`\npredictors and their interaction has the minimum AIC among the\nmodels compared at all channels except the prefrontal MiPf.  The\nsharp transients in the magntiude of the AIC differences (> 7) at\nthese channels in this interval indicates substantially less support\nfor the alternative models.\n\n\n"
      ]
    },
    {
      "cell_type": "code",
      "execution_count": null,
      "metadata": {
        "collapsed": false
      },
      "outputs": [],
      "source": [
        "from fitgrid.utils.summary import plot_AICmin_deltas\n\nfig, axs = plot_AICmin_deltas(lm_summary_T, figsize=(12, 12))\nfig.tight_layout()\nfor ax_row in range(len(axs)):\n    axs[ax_row, 0].set(ylim=(0, 50))"
      ]
    },
    {
      "cell_type": "markdown",
      "metadata": {},
      "source": [
        "## Likelihood Ratio\n\nThis example fits a full and reduced\nmodel, computes and then visualizes the time course of likelihood ratios\nwith a few lines of code.\n\n"
      ]
    },
    {
      "cell_type": "markdown",
      "metadata": {},
      "source": [
        "Fit the full model. The log likelihood dataframe is returned by querying the `FitGrid`.\n\n"
      ]
    },
    {
      "cell_type": "code",
      "execution_count": null,
      "metadata": {
        "collapsed": false
      },
      "outputs": [],
      "source": [
        "lmg_full = fg.lm(p3_epochs_fg, RHS=\"1 + stim + tone + stim:tone\", LHS=channels)\nlmg_full.llf"
      ]
    },
    {
      "cell_type": "markdown",
      "metadata": {},
      "source": [
        "Fit the reduced model likewise.\n\n"
      ]
    },
    {
      "cell_type": "code",
      "execution_count": null,
      "metadata": {
        "collapsed": false
      },
      "outputs": [],
      "source": [
        "lmg_reduced = fg.lm(p3_epochs_fg, RHS=\"1 + stim + tone\", LHS=channels)\nlmg_reduced.llf"
      ]
    },
    {
      "cell_type": "markdown",
      "metadata": {},
      "source": [
        "**Calculate.** The likelihood ratio is the difference of the log likelihoods.\n\n"
      ]
    },
    {
      "cell_type": "code",
      "execution_count": null,
      "metadata": {
        "collapsed": false
      },
      "outputs": [],
      "source": [
        "likelihood_ratio = lmg_full.llf - lmg_reduced.llf\nlikelihood_ratio"
      ]
    },
    {
      "cell_type": "markdown",
      "metadata": {},
      "source": [
        "**Visualize.** This comparison shows that stimulus x tone interaction\nterm in the model has little systematic impact on the\ngoodness-of-fit as given by the likelihood except around 300 - 375 ms poststimulus,\nlargest over central scalp (MiCe).\n\n"
      ]
    },
    {
      "cell_type": "code",
      "execution_count": null,
      "metadata": {
        "collapsed": false
      },
      "outputs": [],
      "source": [
        "fig, ax = plt.subplots(figsize=(12, 3))\n\n# render\nim = ax.imshow(likelihood_ratio.T, interpolation=\"none\", aspect=16)\ncb = fig.colorbar(im, ax=ax)\n\n# label\nax.set_title(\"Likelihood ratio\")\nax.set(xlabel=\"Time (ms)\", ylabel=\"Channel\")\n\nxtick_labels = range(-200, 600, 100)\nax.set_xticks([likelihood_ratio.index.get_loc(tick) for tick in xtick_labels])\nax.set_xticklabels(xtick_labels)\n\nax.set_yticks(range(len(likelihood_ratio.columns)))\nax.set_yticklabels(likelihood_ratio.columns)\nfig.tight_layout()"
      ]
    },
    {
      "cell_type": "code",
      "execution_count": null,
      "metadata": {
        "collapsed": false
      },
      "outputs": [],
      "source": [
        "fig, ax = plt.subplots(figsize=(8, 3))\nax.set_title(\"Likelihood Ratio\")\n_ = (lmg_full.llf - lmg_reduced.llf).plot(ax=ax)"
      ]
    }
  ],
  "metadata": {
    "kernelspec": {
      "display_name": "Python 3",
      "language": "python",
      "name": "python3"
    },
    "language_info": {
      "codemirror_mode": {
        "name": "ipython",
        "version": 3
      },
      "file_extension": ".py",
      "mimetype": "text/x-python",
      "name": "python",
      "nbconvert_exporter": "python",
      "pygments_lexer": "ipython3",
      "version": "3.8.8"
    }
  },
  "nbformat": 4,
  "nbformat_minor": 0
}