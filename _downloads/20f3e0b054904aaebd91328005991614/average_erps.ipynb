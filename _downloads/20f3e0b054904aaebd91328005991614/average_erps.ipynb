{
  "cells": [
    {
      "cell_type": "code",
      "execution_count": null,
      "metadata": {
        "collapsed": false
      },
      "outputs": [],
      "source": [
        "%matplotlib inline"
      ]
    },
    {
      "cell_type": "markdown",
      "metadata": {},
      "source": [
        "\n# Average ERPs with `fitgrid`\n"
      ]
    },
    {
      "cell_type": "markdown",
      "metadata": {},
      "source": [
        "For designed EEG experiments with categorical variables, a useful\nrange of Hunt-Dawson average ERPs and ERP effects fall out of\nordinary least squares regression modeling by selecting the\nappropriate categorical predictor variable coding with the `patsy`\nformula language. The results are identical to the addition,\nsubtraction of average ERP waveforms without programming\nad hoc algebraic manipulations.\n\n"
      ]
    },
    {
      "cell_type": "markdown",
      "metadata": {},
      "source": [
        "## Prepare and load epochs\n\n"
      ]
    },
    {
      "cell_type": "code",
      "execution_count": null,
      "metadata": {
        "collapsed": false
      },
      "outputs": [],
      "source": [
        "import pandas as pd\nimport fitgrid as fg\nfrom fitgrid import DATA_DIR, sample_data\n\nsample_data.get_file(\"sub000p3.ms1500.epochs.feather\")\np3_epochs_df = pd.read_feather(DATA_DIR / \"sub000p3.ms1500.epochs.feather\")\n\n# select 3 types of stimulus event: standards, targets, and bioamp calibration triggers\np3_epochs_df = p3_epochs_df.query(\"stim in ['standard', 'target', 'cal']\")\n\n# look up the data QC flags and select the good epochs\ngood_epochs = p3_epochs_df.query(\"match_time == 0 and log_flags == 0\")[\n    \"epoch_id\"\n]\np3_epochs_df = p3_epochs_df.query(\"epoch_id in @good_epochs\")\n\n# rename the time stamp column\np3_epochs_df.rename(columns={\"match_time\": \"time_ms\"}, inplace=True)\n\n# select columns of interest for modeling\nindices = [\"epoch_id\", \"time_ms\"]\npredictors = [\"stim\"]  # categorical with 2 levels: standard, target\nchannels = [\"MiPf\", \"MiCe\", \"MiPa\", \"MiOc\"]  # midline electrodes\np3_epochs_df = p3_epochs_df[indices + predictors + channels]\n\n# set the epoch and time column index for fg.Epochs\np3_epochs_df.set_index([\"epoch_id\", \"time_ms\"], inplace=True)\n\n# \"baseline\", i.e., center each epoch on the 200 ms pre-stimulus interval\ncentered = []\nfor epoch_id, vals in p3_epochs_df.groupby(\"epoch_id\"):\n    centered.append(\n        vals[channels]\n        - vals[channels].query(\"time_ms >= -200 and time_ms < 0\").mean()\n    )\np3_epochs_df[channels] = pd.concat(centered)\n\n# load data into fitgrid.Epochs\np3_epochs_fg = fg.epochs_from_dataframe(\n    p3_epochs_df, epoch_id=\"epoch_id\", time=\"time_ms\", channels=channels\n)"
      ]
    },
    {
      "cell_type": "markdown",
      "metadata": {},
      "source": [
        "## average ERPs by condition: $\\sim \\mathsf{0 + stim}$\n\nSuppressing the intercept term in the `patsy` model formula triggers\nfull-rank dummy (indicator) coding of the two-level categorical variable.\nThe estimated coefficients are identical to the average ERPs in\neach condition. The minimal design matrix illustrates dummy\ncoding for one categorical variable with two levels.\n\n"
      ]
    },
    {
      "cell_type": "code",
      "execution_count": null,
      "metadata": {
        "collapsed": false
      },
      "outputs": [],
      "source": [
        "lmg_0_stim = fg.lm(p3_epochs_fg, RHS=\"0 + stim\", quiet=True)"
      ]
    },
    {
      "cell_type": "markdown",
      "metadata": {},
      "source": [
        "Parameter estimates = Smith & Kutas (2015) regression ERPs\n\n"
      ]
    },
    {
      "cell_type": "code",
      "execution_count": null,
      "metadata": {
        "collapsed": false
      },
      "outputs": [],
      "source": [
        "beta_hats = lmg_0_stim.params\nbeta_hats"
      ]
    },
    {
      "cell_type": "markdown",
      "metadata": {},
      "source": [
        "Parameter estimate standard errors\n\n"
      ]
    },
    {
      "cell_type": "code",
      "execution_count": null,
      "metadata": {
        "collapsed": false
      },
      "outputs": [],
      "source": [
        "bses = lmg_0_stim.bse\nbses"
      ]
    },
    {
      "cell_type": "markdown",
      "metadata": {},
      "source": [
        "Visualize parameter estimates +/- standard error\n\n"
      ]
    },
    {
      "cell_type": "code",
      "execution_count": null,
      "metadata": {
        "collapsed": false
      },
      "outputs": [],
      "source": [
        "from matplotlib import pyplot as plt\n\n# label index columns for pandas groupby\nfor attr_df in [beta_hats, bses]:\n    attr_df.index.set_names([\"time_ms\", \"beta_hats\"], inplace=True)\n\nfor beta_hat, vals in beta_hats.groupby(\"beta_hats\"):\n    vals.reset_index('beta_hats', inplace=True, drop=True)\n    times = vals.index.to_numpy()\n    bse = bses.query(\"beta_hats==@beta_hat\")\n\n    fig, ax = plt.subplots(figsize=(8, 4))\n    ax.set_title(beta_hat)\n    ax.set(\n        xlabel=\"Time (ms)\",\n        xlim=(times[0], times[-1]),\n        ylabel=r\"$\\mu$V\",\n        ylim=(-15, 15),\n    )\n    ax.axhline(0, color=\"lightgray\", lw=1)\n    ax.axvline(0, color=\"gray\", lw=1)\n\n    for jdx, chan in enumerate(vals.columns):\n        ax.plot(times, vals[chan], label=chan)\n        ax.fill_between(\n            times, vals[chan] - bse[chan], vals[chan] + bse[chan], alpha=0.2\n        )\n    ax.legend(loc=(1.05, 0.5))"
      ]
    },
    {
      "cell_type": "markdown",
      "metadata": {},
      "source": [
        "## Why this works\n\nHere is a small (\"right hand side\") design matrix for 9 observations\nof a categorical variable with 3 levels.  There is no intercept\n(constant) and when one of the 3 regressors is 1, the others are\n0. The $\\hat{\\beta}$ weights that minimize overall error are\nthe means of the data at each level of the categorical variable.\n\n"
      ]
    },
    {
      "cell_type": "code",
      "execution_count": null,
      "metadata": {
        "collapsed": false
      },
      "outputs": [],
      "source": [
        "from patsy import demo_data, dmatrix\n\ncat_2 = demo_data(\"a\", nlevels=3, min_rows=8)\ndmatrix(\"0 + a\", data=cat_2, return_type=\"dataframe\")"
      ]
    },
    {
      "cell_type": "markdown",
      "metadata": {},
      "source": [
        "For EEG data, the \"means of the data at each level of the categorical variable\"\nare the time-domain average ERPs.  In the sample data, the categorical stimulus\nvariable has three levels: `standard`, `target`, and `cal` for the\n10 $\\mu\\mathsf{V}$ calibration square wave.\n\nWe can reach into one cell of the `FitGrid` at time = 0 and channel\n= `MiPa` and pull out the design matrix. The three column indicator\ncoding is the same as the `demo_data` example except for the column\nlabels and hundreds observations instead of 9.\n\n"
      ]
    },
    {
      "cell_type": "code",
      "execution_count": null,
      "metadata": {
        "collapsed": false
      },
      "outputs": [],
      "source": [
        "lmg_0_stim[0, \"MiPa\"].model.exog_names.unstack(-2)"
      ]
    },
    {
      "cell_type": "code",
      "execution_count": null,
      "metadata": {
        "collapsed": false
      },
      "outputs": [],
      "source": [
        "lmg_0_stim[0, \"MiPa\"].model.exog.unstack(-1)"
      ]
    }
  ],
  "metadata": {
    "kernelspec": {
      "display_name": "Python 3",
      "language": "python",
      "name": "python3"
    },
    "language_info": {
      "codemirror_mode": {
        "name": "ipython",
        "version": 3
      },
      "file_extension": ".py",
      "mimetype": "text/x-python",
      "name": "python",
      "nbconvert_exporter": "python",
      "pygments_lexer": "ipython3",
      "version": "3.8.12"
    }
  },
  "nbformat": 4,
  "nbformat_minor": 0
}