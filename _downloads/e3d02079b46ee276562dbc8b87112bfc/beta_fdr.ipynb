{
  "cells": [
    {
      "cell_type": "code",
      "execution_count": null,
      "metadata": {
        "collapsed": false
      },
      "outputs": [],
      "source": [
        "%matplotlib inline"
      ]
    },
    {
      "cell_type": "markdown",
      "metadata": {},
      "source": [
        "\n# False Discovery Rate (FDR) control for estimated predictor coefficients (betas)\n"
      ]
    },
    {
      "cell_type": "markdown",
      "metadata": {},
      "source": [
        "The fitgrid summary utilities include an FDR critical value\ncalculator (:py:func:`fitgrid.utils.summary.summaries_fdr_control`)\nfor the special case of estimated predictor coefficients\n$\\hat{\\beta}_i \\neq 0$. The FDR methods implemented are from\n[BenYek2001]_ and [BenHoc1995]_ and computed for whatever *p*-values\nare returned by statsmodels for fitgrid.lm() and the lmerTest for\nfitgrid.lmer().\n\n<div class=\"alert alert-info\"><h4>Note</h4><p>The family of tests for FDR control is assumed to be **all and\n   only** the channels, models, and $\\hat{\\beta}_i$ in the\n   summary dataframe.  The user must select the appropriate\n   family of tests by slicing or stacking summary dataframes before\n   running the FDR calculator.</p></div>\n\n"
      ]
    },
    {
      "cell_type": "markdown",
      "metadata": {},
      "source": [
        "This example is event-related EEG data from one individual in an\nauditory oddball paradigm that presents a series of beeps\n(\"standards\") with occasional and unpredictable boops\n(\"targets\"). We may be interested in when (time) and where (channel)\nthe brain response in these two conditions differs. FDR control is\none procedure for guiding judgment about which differences are\nsufficiently large, relative to the variability of the observations,\nto be credibly attributed to the experimental manipulation rather\nthan chance.\n\n"
      ]
    },
    {
      "cell_type": "markdown",
      "metadata": {},
      "source": [
        "## Prepare the data for modeling\n\n"
      ]
    },
    {
      "cell_type": "code",
      "execution_count": null,
      "metadata": {
        "collapsed": false
      },
      "outputs": [],
      "source": [
        "import numpy as np\nimport pandas as pd\nimport fitgrid as fg\nfrom fitgrid import DATA_DIR, sample_data\n\nsample_data.get_file(\"sub000p3.ms1500.epochs.feather\")\np3_epochs_df = pd.read_feather(DATA_DIR / \"sub000p3.ms1500.epochs.feather\")\n\n# select stimulus types\np3_epochs_df = p3_epochs_df.query(\n    \"stim in ['standard', 'target'] and tone in ['hi', 'lo']\"\n)\n\n# look up the data QC flags and select the good epochs\ngood_epochs = p3_epochs_df.query(\"match_time == 0 and log_flags == 0\")[\n    \"epoch_id\"\n]\np3_epochs_df = p3_epochs_df.query(\"epoch_id in @good_epochs\")\n\n# rename the time stamp column\np3_epochs_df.rename(columns={\"match_time\": \"time\"}, inplace=True)\n\n# select columns of interest for modeling\nindices = [\"epoch_id\", \"time\"]\npredictors = [\"stim\", \"tone\"]  # categorical with 2 levels: standard, target\nchannels = [\"MiPf\", \"MiCe\", \"MiPa\", \"MiOc\"]  # midline electrodes\np3_epochs_df = p3_epochs_df[indices + predictors + channels]\n\n# set the epoch and time column index for fg.Epochs\np3_epochs_df.set_index([\"epoch_id\", \"time\"], inplace=True)\n\n# \"baseline\", i.e., center each epoch on the 200 ms pre-stimulus interval\ncentered = []\nfor epoch_id, vals in p3_epochs_df.groupby(\"epoch_id\"):\n    centered.append(\n        vals[channels]\n        - vals[channels].query(\"time >= -200 and time < 0\").mean()\n    )\np3_epochs_df[channels] = pd.concat(centered)\n\n# load data into fg.Epochs\np3_epochs_fg = fg.epochs_from_dataframe(\n    p3_epochs_df, epoch_id=\"epoch_id\", time=\"time\", channels=channels\n)"
      ]
    },
    {
      "cell_type": "markdown",
      "metadata": {},
      "source": [
        "## Summarize a model or model stack\n\nThis example summarizes a simple model with one categorical predictor: stim (2 levels: standard, target).\n\n"
      ]
    },
    {
      "cell_type": "code",
      "execution_count": null,
      "metadata": {
        "collapsed": false
      },
      "outputs": [],
      "source": [
        "lm_summary = fg.utils.summary.summarize(\n    p3_epochs_fg,\n    modeler=\"lm\",\n    LHS=channels,\n    RHS=[\n        \"1 + stim\",\n    ],\n    quiet=True,\n)\nlm_summary"
      ]
    },
    {
      "cell_type": "markdown",
      "metadata": {},
      "source": [
        "The summary dataframe includes the *t* statistic for the test of\n$\\hat{\\beta} \\neq 0$ for each model, beta, time and channel\nalong with the corresponding *p*-values, uncorrected for multiple\ncomparisons.\n\n"
      ]
    },
    {
      "cell_type": "code",
      "execution_count": null,
      "metadata": {
        "collapsed": false
      },
      "outputs": [],
      "source": [
        "lm_summary.query(\"key in ['T-stat', 'P-val']\")"
      ]
    },
    {
      "cell_type": "markdown",
      "metadata": {},
      "source": [
        "\n## FDR control for model summaries\n\nHere is the fitgrid default Benjamini and Yekutieli FDR control at\n0.05. Note, the family of tests is **all** the estimated betas in\nthe summary dataframe.\n\n"
      ]
    },
    {
      "cell_type": "code",
      "execution_count": null,
      "metadata": {
        "collapsed": false
      },
      "outputs": [],
      "source": [
        "fdr_info, fig, ax = fg.utils.summary.summaries_fdr_control(lm_summary)"
      ]
    },
    {
      "cell_type": "markdown",
      "metadata": {},
      "source": [
        "Out of curiosity, how many *p*-values are below the unadjusted *p* = 0.05?\n\n"
      ]
    },
    {
      "cell_type": "code",
      "execution_count": null,
      "metadata": {
        "collapsed": false
      },
      "outputs": [],
      "source": [
        "pvals = lm_summary.query(\"key=='P-val'\").to_numpy().flatten()  # fetch p values\nn_crit_05 = len(np.where(pvals < 0.05)[0])\nprint(\n    f\"There are {n_crit_05}/{fdr_info['n_pvals']} = {n_crit_05/fdr_info['n_pvals']:.3f} \"\n    \"below unadjusted p=0.05\"\n)"
      ]
    },
    {
      "cell_type": "markdown",
      "metadata": {},
      "source": [
        "Out of curiosity, how many are below critical *p* for this FDR control?\n\n"
      ]
    },
    {
      "cell_type": "code",
      "execution_count": null,
      "metadata": {
        "collapsed": false
      },
      "outputs": [],
      "source": [
        "assert fdr_info['n_pvals'] == len(pvals)  # these must agree\n\nn_crit_p = len(np.where(pvals < fdr_info[\"crit_p\"])[0])\nprint(\n    f\"There are {n_crit_p}/{fdr_info['n_pvals']} = {n_crit_p/fdr_info['n_pvals']:.3f} \"\n    f\"below critical p = {fdr_info['crit_p']:.5f} for FDR control\"\n)"
      ]
    },
    {
      "cell_type": "markdown",
      "metadata": {},
      "source": [
        "The fitgrid utilities can display FDR results along with the time\nseries of coefficient estimates, the $\\hat\\beta_i$\n(see `fdr_lmer_beta_plots` for more examples). Four midline scalp channels\nare shown here. The black dots indicate where the *p*-value is below\ncritical *p* for the specified FDR control procedure. Their latency\nin an interval around 300 - 400 ms post-stimulus, predominantly over\ncentral and posterior scalp [MiCe, MiPa, MiOc], is in agreement with\nthe P300 average ERP effect typically observed in this kind of\nauditory oddball paradigm.\n\n\n"
      ]
    },
    {
      "cell_type": "code",
      "execution_count": null,
      "metadata": {
        "collapsed": false
      },
      "outputs": [],
      "source": [
        "figs_a = fg.utils.summary.plot_betas(\n    lm_summary,\n    fdr_kw={\"method\": \"BY\", \"rate\": 0.05},\n    betas=[\"stim[T.target]\"],\n    scatter_size=50,\n)\nfor fig in figs_a:\n    ax = fig.get_axes()[0]\n    ax.axvline(0, lw=0.5, color=\"black\", zorder=0)\n    ax.set(ylim=(-15, 15))"
      ]
    },
    {
      "cell_type": "markdown",
      "metadata": {},
      "source": [
        "## Selecting the family of tests\n\nFor this application, it might be argued that tests of\n$\\hat\\beta_\\mathsf{Intercept} \\neq 0$ do not belong in the\nfamily of tests for controlling FDR for tests of\n$\\hat\\beta_\\mathsf{stim[T.target]} \\neq 0$.\n\nIf so, it is straightforward to select the desired test family from\nthe summary data frame as shown which halves the size of the test\nfamily.  In this instance, critical *p* changes only slightly so the\nchoice of family is largely inconsequential for the systematic\npatterns though in other cases it may matter.\n\n"
      ]
    },
    {
      "cell_type": "code",
      "execution_count": null,
      "metadata": {
        "collapsed": false
      },
      "outputs": [],
      "source": [
        "figs_b = fg.utils.summary.plot_betas(\n    lm_summary.query(\"beta == 'stim[T.target]'\"),  # select these betas\n    fdr_kw={\"method\": \"BY\", \"rate\": 0.05},\n    betas=[\"stim[T.target]\"],\n    scatter_size=50,\n)\nfor fig in figs_b:\n    fig.get_axes()[0].set(ylim=(-15, 15))"
      ]
    }
  ],
  "metadata": {
    "kernelspec": {
      "display_name": "Python 3",
      "language": "python",
      "name": "python3"
    },
    "language_info": {
      "codemirror_mode": {
        "name": "ipython",
        "version": 3
      },
      "file_extension": ".py",
      "mimetype": "text/x-python",
      "name": "python",
      "nbconvert_exporter": "python",
      "pygments_lexer": "ipython3",
      "version": "3.8.12"
    }
  },
  "nbformat": 4,
  "nbformat_minor": 0
}