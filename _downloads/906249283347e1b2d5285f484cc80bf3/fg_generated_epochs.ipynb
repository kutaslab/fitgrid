{
  "cells": [
    {
      "cell_type": "code",
      "execution_count": null,
      "metadata": {
        "collapsed": false
      },
      "outputs": [],
      "source": [
        "%matplotlib inline"
      ]
    },
    {
      "cell_type": "markdown",
      "metadata": {},
      "source": [
        "# Simulated epochs data\n\nUse :py:func:`fitgrid.generate <fitgrid.fake_data.generate>` to quickly\ngenerate small or large random data sets with categorical and random\ncontinuous predictor variables. The random values can be seeded for\nreplicability.\n\nThe data can be returned in ``fitgrid`` :py:class:`Epochs\n<fitgrid.epochs.Epochs>` format for immediate modeling or as a\n:py:class:`pandas.DataFrame`. The latter is useful for mocking up the\nconversion from a dataframe to fitgrid.Epochs when developing an\nanalysis pipeline.\n\nSmall data sets are useful for trying out features and\nfunctions. Larger sets are useful for testing system performance and\nlimitations.\n"
      ]
    },
    {
      "cell_type": "code",
      "execution_count": null,
      "metadata": {
        "collapsed": false
      },
      "outputs": [],
      "source": [
        "import fitgrid"
      ]
    },
    {
      "cell_type": "markdown",
      "metadata": {},
      "source": [
        "Small random data set as fitgrid.Epochs\n\n"
      ]
    },
    {
      "cell_type": "code",
      "execution_count": null,
      "metadata": {
        "collapsed": false
      },
      "outputs": [],
      "source": [
        "fitgrid.generate(n_samples=8, n_channels=4, seed=32)"
      ]
    },
    {
      "cell_type": "markdown",
      "metadata": {},
      "source": [
        "The same data as a pandas.DataFrame\n\n"
      ]
    },
    {
      "cell_type": "code",
      "execution_count": null,
      "metadata": {
        "collapsed": false
      },
      "outputs": [],
      "source": [
        "fitgrid.generate(n_samples=8, n_channels=4, seed=32, return_type=\"dataframe\")"
      ]
    }
  ],
  "metadata": {
    "kernelspec": {
      "display_name": "Python 3",
      "language": "python",
      "name": "python3"
    },
    "language_info": {
      "codemirror_mode": {
        "name": "ipython",
        "version": 3
      },
      "file_extension": ".py",
      "mimetype": "text/x-python",
      "name": "python",
      "nbconvert_exporter": "python",
      "pygments_lexer": "ipython3",
      "version": "3.8.12"
    }
  },
  "nbformat": 4,
  "nbformat_minor": 0
}