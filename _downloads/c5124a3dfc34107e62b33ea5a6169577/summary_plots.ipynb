{
  "cells": [
    {
      "cell_type": "code",
      "execution_count": null,
      "metadata": {
        "collapsed": false
      },
      "outputs": [],
      "source": [
        "%matplotlib inline"
      ]
    },
    {
      "cell_type": "markdown",
      "metadata": {},
      "source": [
        "# Model summary visualization\n"
      ]
    },
    {
      "cell_type": "markdown",
      "metadata": {},
      "source": [
        "These examples illustrate LMER and OLS model summary visualizations.\nFor LMER models, this includes the model fitting warnings that are often encountered and\nother interesting information like the estimated degrees of freedom.\n\nThe fitgrid utilities for summary plotting all return matplot.Figure and matplotlib.Axes objects\nor a list of them so they can be fine tuned.\n\nThe examples use a small simulated data set to speed up\nprocessing and silly models to generate interesting warnings.\n\n"
      ]
    },
    {
      "cell_type": "markdown",
      "metadata": {},
      "source": [
        "<div class=\"alert alert-danger\"><h4>Warning</h4><p>In practice, a model summary data frame may have large numbers of channels, models, and betas\n   and the default plotting behavior is to plot the entire dataframe. To avoid\n   overgenerating plots, select what you want to plot with the optional keyword\n   arguments and/or prune the summary dataframe before plotting.</p></div>\n\n\n"
      ]
    },
    {
      "cell_type": "code",
      "execution_count": null,
      "metadata": {
        "collapsed": false
      },
      "outputs": [],
      "source": [
        "from matplotlib import pyplot as plt\nimport fitgrid"
      ]
    },
    {
      "cell_type": "markdown",
      "metadata": {},
      "source": [
        "## Generate a small random data set\n\n"
      ]
    },
    {
      "cell_type": "code",
      "execution_count": null,
      "metadata": {
        "collapsed": false
      },
      "outputs": [],
      "source": [
        "epochs_fg = fitgrid.generate(n_samples=8, n_channels=4, seed=32)\nchannels = [\n    column for column in epochs_fg.table.columns if \"channel\" in column\n]"
      ]
    },
    {
      "cell_type": "markdown",
      "metadata": {},
      "source": [
        "## Summarize a stack of two LMER models\n\n"
      ]
    },
    {
      "cell_type": "code",
      "execution_count": null,
      "metadata": {
        "collapsed": false
      },
      "outputs": [],
      "source": [
        "lmer_rhs = [\n    \"1 + categorical + (continuous | categorical)\",\n    \"1 + continuous + (1 | categorical)\",\n]\n\nlmer_summaries = fitgrid.utils.summary.summarize(\n    epochs_fg,\n    \"lmer\",\n    LHS=channels,\n    RHS=lmer_rhs,\n    parallel=True,\n    n_cores=2,\n    quiet=True,\n)\nlmer_summaries"
      ]
    },
    {
      "cell_type": "markdown",
      "metadata": {},
      "source": [
        "## Estimated coefficient (\"beta\") plots\n\nSelect and plot one model intercept at a channels. Model warnings,\nif any, are plotted by default.\n\n"
      ]
    },
    {
      "cell_type": "code",
      "execution_count": null,
      "metadata": {
        "collapsed": false
      },
      "outputs": [],
      "source": [
        "figs = fitgrid.utils.summary.plot_betas(\n    lmer_summaries,\n    LHS=[\"channel2\"],\n    models=[\"1+categorical+(continuous|categorical)\"],\n    betas=[\"(Intercept)\"],\n    beta_plot_kwargs={\"ylim\": (-75, 75)},\n)"
      ]
    },
    {
      "cell_type": "markdown",
      "metadata": {},
      "source": [
        "## Display degrees of freedom\n\n\n"
      ]
    },
    {
      "cell_type": "code",
      "execution_count": null,
      "metadata": {
        "collapsed": false
      },
      "outputs": [],
      "source": [
        "# Degrees of freedom for mixed-effects models are somewhat\n# controversial. You can plot those returned by lmerTest. The degrees\n# of freedom must be scaled by a function of your choosing. When when\n# the df are much larger than the betas log transform like\n# ``numpy.log10()`` may be useful. The identity function ``dof()``\n# below shows schematically how to define your own and the example\n# uses the Python anonymous function (``lambda``) to do the same thing as ``dof``.\n\n\ndef dof(x):\n    return x\n\n\nfigs = fitgrid.utils.summary.plot_betas(\n    lmer_summaries,\n    LHS=[\"channel2\"],\n    models=[\"1+categorical+(continuous|categorical)\"],\n    betas=[\"(Intercept)\"],\n    beta_plot_kwargs={\"ylim\": (-100, 100)},\n    df_func=dof,\n)"
      ]
    },
    {
      "cell_type": "markdown",
      "metadata": {},
      "source": [
        "\n## Beta plots with FDR control\n\nFDR controlled beta differences from zero can be plotted as well, though\nfor LMER models, *p* values are somewhat controversial. For this toy\ndata set with random data, none of the tests survive the FDR control\nprocedure (see `fdr_model_summaries` for an example with EEG data).\n\n"
      ]
    },
    {
      "cell_type": "code",
      "execution_count": null,
      "metadata": {
        "collapsed": false
      },
      "outputs": [],
      "source": [
        "figs = fitgrid.utils.summary.plot_betas(\n    lmer_summaries,\n    LHS=[\"channel2\"],\n    models=[\"1+categorical+(continuous|categorical)\"],\n    betas=[\"(Intercept)\"],\n    beta_plot_kwargs={\"ylim\": (-100, 100)},\n    fdr_kw={\"method\": \"BY\"},\n)"
      ]
    },
    {
      "cell_type": "markdown",
      "metadata": {},
      "source": [
        "## AIC $\\Delta_\\mathsf{min}$ with model warnings\n\nFor AIC $\\Delta_\\mathsf{min}$ plots the default\nis to highlight all grid cells with warnings.\n\n"
      ]
    },
    {
      "cell_type": "code",
      "execution_count": null,
      "metadata": {
        "collapsed": false
      },
      "outputs": [],
      "source": [
        "fig, axs = fitgrid.utils.summary.plot_AICmin_deltas(\n    lmer_summaries,\n    figsize=(12, 5),\n)\nfig.tight_layout()"
      ]
    },
    {
      "cell_type": "markdown",
      "metadata": {},
      "source": [
        "Plot all warnings and display the warning types\n\n"
      ]
    },
    {
      "cell_type": "code",
      "execution_count": null,
      "metadata": {
        "collapsed": false
      },
      "outputs": [],
      "source": [
        "plt.close(\"all\")\nfig, ax = fitgrid.utils.summary.plot_AICmin_deltas(\n    lmer_summaries, show_warnings=\"labels\"\n)\nfig.tight_layout()"
      ]
    },
    {
      "cell_type": "markdown",
      "metadata": {},
      "source": [
        "Select specific warning types to plot\n\n"
      ]
    },
    {
      "cell_type": "code",
      "execution_count": null,
      "metadata": {
        "collapsed": false
      },
      "outputs": [],
      "source": [
        "plt.close(\"all\")\nfig, ax = fitgrid.utils.summary.plot_AICmin_deltas(\n    lmer_summaries, show_warnings=[\"converge\"]\n)\nfig.tight_layout()"
      ]
    },
    {
      "cell_type": "markdown",
      "metadata": {},
      "source": [
        "## OLS model summaries and plots\n\nSummaries of OLS models and models stacks are computed the same way as LMER models.\n\n"
      ]
    },
    {
      "cell_type": "code",
      "execution_count": null,
      "metadata": {
        "collapsed": false
      },
      "outputs": [],
      "source": [
        "# Compute OLS fit summaries for two models\nlm_rhs = [\"1 + categorical\", \"1 + continuous\"]\nlm_summaries = fitgrid.utils.summary.summarize(\n    epochs_fg,\n    \"lm\",\n    LHS=channels,\n    RHS=lm_rhs,\n    parallel=False,\n    quiet=True,\n)\nlm_summaries"
      ]
    },
    {
      "cell_type": "markdown",
      "metadata": {},
      "source": [
        "Since summary data frames are indexed alike for LMER and OLS, the same\nbeta and AIC $\\Delta_\\mathsf{min}$ plotting are used and work\nthe same way.\n\n"
      ]
    },
    {
      "cell_type": "code",
      "execution_count": null,
      "metadata": {
        "collapsed": false
      },
      "outputs": [],
      "source": [
        "plt.close('all')\nfigs = fitgrid.utils.summary.plot_betas(\n    lm_summaries,\n    LHS=[\"channel0\", \"channel1\"],\n    models=[\"1 + categorical\"],\n    betas=[\"Intercept\"],\n    beta_plot_kw={\"ylim\": (-25, 25)},\n    interval=[2, 6],\n)"
      ]
    },
    {
      "cell_type": "markdown",
      "metadata": {},
      "source": [
        "AIC $\\Delta_\\mathsf{min}$\n\n"
      ]
    },
    {
      "cell_type": "code",
      "execution_count": null,
      "metadata": {
        "collapsed": false
      },
      "outputs": [],
      "source": [
        "plt.close(\"all\")\nfig, ax = fitgrid.utils.summary.plot_AICmin_deltas(lm_summaries)\nfig.tight_layout()"
      ]
    },
    {
      "cell_type": "markdown",
      "metadata": {},
      "source": [
        "## Customizing figrid summary plots\n\nSome matplotlib options can be passed through.\n\n"
      ]
    },
    {
      "cell_type": "code",
      "execution_count": null,
      "metadata": {
        "collapsed": false
      },
      "outputs": [],
      "source": [
        "plt.close(\"all\")\nfigs = fitgrid.utils.summary.plot_betas(\n    lm_summaries,\n    LHS=[\"channel0\", \"channel1\"],\n    models=[\"1 + categorical\"],\n    betas=[\"Intercept\"],\n    beta_plot_kw={\"ylabel\": \"$\\mu$V / unit change\", \"ylim\": (-25, 25)},\n    interval=[2, 6],\n)"
      ]
    },
    {
      "cell_type": "markdown",
      "metadata": {},
      "source": [
        "The matplotlib.Figure and matplotlib.Axes are returned so they can be customized.\n\n"
      ]
    },
    {
      "cell_type": "code",
      "execution_count": null,
      "metadata": {
        "collapsed": false
      },
      "outputs": [],
      "source": [
        "plt.close(\"all\")\nfig, axs = fitgrid.utils.summary.plot_AICmin_deltas(\n    lm_summaries,\n    figsize=(12, 8),\n    gridspec_kw={\"width_ratios\": [1, 1, 0.1]},  # column widths\n)\n\n# matplotlib.Axes tuning ... the axs are a numpy.array, 2 rows of 3 columns\nfor ax_row in axs:\n    ax_row[0].set(ylim=(0, 12))\n    ax_row[0].set_yticks([2, 4, 7, 10])\n    for line in [hl for hl in ax_row[0].get_lines()]:\n        if \"channel\" not in line.get_label():\n            line.set(linewidth=0.75, color=\"black\", zorder=0)\n        else:\n            line.set(linewidth=4)\n\n# text annotation\naxs[1][1].annotate(\n    text=(\n        \"For these $\\mathcal{N}(0, 1)$ random data,\\n\"\n        \"$\\Delta_{\\mathsf{min}}$ > 4 like this is rare.\"\n    ),\n    xy=(1, 0.6),\n    xytext=(1.75, 1.25),\n    arrowprops={\"width\": 2},\n)\nfig.tight_layout()"
      ]
    }
  ],
  "metadata": {
    "kernelspec": {
      "display_name": "Python 3",
      "language": "python",
      "name": "python3"
    },
    "language_info": {
      "codemirror_mode": {
        "name": "ipython",
        "version": 3
      },
      "file_extension": ".py",
      "mimetype": "text/x-python",
      "name": "python",
      "nbconvert_exporter": "python",
      "pygments_lexer": "ipython3",
      "version": "3.8.12"
    }
  },
  "nbformat": 4,
  "nbformat_minor": 0
}