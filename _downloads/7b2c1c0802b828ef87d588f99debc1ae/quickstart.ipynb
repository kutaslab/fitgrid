{
  "cells": [
    {
      "cell_type": "code",
      "execution_count": null,
      "metadata": {
        "collapsed": false
      },
      "outputs": [],
      "source": [
        "%matplotlib inline"
      ]
    },
    {
      "cell_type": "markdown",
      "metadata": {},
      "source": [
        "\n\n# Quick start\n"
      ]
    },
    {
      "cell_type": "code",
      "execution_count": null,
      "metadata": {
        "collapsed": false
      },
      "outputs": [],
      "source": [
        "import pandas as pd\nimport fitgrid as fg"
      ]
    },
    {
      "cell_type": "markdown",
      "metadata": {},
      "source": [
        "1. Read or construct a 2-D :py:class:`pandas.DataFrame` of\ntime-stamped epochs with time series observations in rows and variables in columns.\n\n"
      ]
    },
    {
      "cell_type": "code",
      "execution_count": null,
      "metadata": {
        "collapsed": false
      },
      "outputs": [],
      "source": [
        "from fitgrid import sample_data, DATA_DIR\n\n# fitgrid built-in sample data download\np3_f = \"sub000p3.ms1500.epochs.feather\"\nsample_data.get_file(p3_f)\n\n# read as a pandas.DataFrame\np3_df = pd.read_feather(DATA_DIR / p3_f)\np3_df[\"time_ms\"] = p3_df[\"match_time\"]\n\n# EEG quality control (specific to these data)\ngood_epoch_ids = p3_df.query(\"time_ms == 0 and log_flags == 0\")[\"epoch_id\"]\np3_df = p3_df.query(\"epoch_id in @good_epoch_ids\")\n\n# select EEG channels (\"left hand side\") and predictor variables (\"right hand side\")\ncolumns_of_interest = [\n    \"epoch_id\",\n    \"time_ms\",  # index columns\n    \"MiPf\",\n    \"MiCe\",\n    \"MiPa\",\n    \"MiOc\",  # EEG\n    \"stim\",\n    \"tone\",  # predictors\n]\np3_df = p3_df[columns_of_interest].query(\"stim in ['standard', 'target']\")\np3_df"
      ]
    },
    {
      "cell_type": "markdown",
      "metadata": {},
      "source": [
        "2. Load the epochs data into an :py:class:`Epochs <fitgrid.epochs.Epochs>` object for modeling.\n\n"
      ]
    },
    {
      "cell_type": "code",
      "execution_count": null,
      "metadata": {
        "collapsed": false
      },
      "outputs": [],
      "source": [
        "p3_df.set_index(['epoch_id', 'time_ms'], inplace=True)\np3_epochs_fg = fg.epochs_from_dataframe(\n    p3_df,\n    epoch_id='epoch_id',\n    time='time_ms',\n    channels=['MiPf', 'MiCe', 'MiPa', 'MiOc'],\n)"
      ]
    },
    {
      "cell_type": "markdown",
      "metadata": {},
      "source": [
        "3. Fit a model (formula) to the observations at each timepoint and channel.\n\n"
      ]
    },
    {
      "cell_type": "code",
      "execution_count": null,
      "metadata": {
        "collapsed": false
      },
      "outputs": [],
      "source": [
        "lm_grid = fg.lm(\n    p3_epochs_fg,\n    RHS=\"1 + stim\",\n    LHS=[\"MiPf\", \"MiCe\", \"MiPa\", \"MiOc\"],\n    quiet=True,\n)"
      ]
    },
    {
      "cell_type": "markdown",
      "metadata": {},
      "source": [
        "4. The :py:class:`FitGrid[times, channels] <fitgrid.fitgrid.FitGrid>`\nobject is a container for the model fits.\n\n"
      ]
    },
    {
      "cell_type": "code",
      "execution_count": null,
      "metadata": {
        "collapsed": false
      },
      "outputs": [],
      "source": [
        "lm_grid"
      ]
    },
    {
      "cell_type": "markdown",
      "metadata": {},
      "source": [
        "Slice it like a dataframe by times and/or channels\n\n"
      ]
    },
    {
      "cell_type": "code",
      "execution_count": null,
      "metadata": {
        "collapsed": false
      },
      "outputs": [],
      "source": [
        "lm_grid[-200:600, [\"MiCe\", \"MiPa\"]]"
      ]
    },
    {
      "cell_type": "markdown",
      "metadata": {},
      "source": [
        "Access attributes by name like a single fit.\nThe results come back as a :py:class:`pandas.DataFrame` or another\n:py:class:`FitGrid[times, channels] <fitgrid.fitgrid.FitGrid>`.\n\n"
      ]
    },
    {
      "cell_type": "code",
      "execution_count": null,
      "metadata": {
        "collapsed": false
      },
      "outputs": [],
      "source": [
        "# estimated predictor coefficients (betas)\nlm_grid.params"
      ]
    },
    {
      "cell_type": "code",
      "execution_count": null,
      "metadata": {
        "collapsed": false
      },
      "outputs": [],
      "source": [
        "# coefficient standard errors\nlm_grid.bse"
      ]
    },
    {
      "cell_type": "code",
      "execution_count": null,
      "metadata": {
        "collapsed": false
      },
      "outputs": [],
      "source": [
        "# model log likelihood.\nlm_grid.llf"
      ]
    },
    {
      "cell_type": "markdown",
      "metadata": {},
      "source": [
        "Plot results with a ``fitgrid`` built-in.\n\n"
      ]
    },
    {
      "cell_type": "code",
      "execution_count": null,
      "metadata": {
        "collapsed": false
      },
      "outputs": [],
      "source": [
        "f, axs = lm_grid.plot_betas()"
      ]
    },
    {
      "cell_type": "markdown",
      "metadata": {},
      "source": [
        "Or make your own with ``pandas``, ``matplotlib``, ``seaborn``, etc..\n\n"
      ]
    },
    {
      "cell_type": "code",
      "execution_count": null,
      "metadata": {
        "collapsed": false
      },
      "outputs": [],
      "source": [
        "# Slice a time range and compute means with pandas\np3_effect = lm_grid.params.loc[\n    pd.IndexSlice[250:400, \"stim[T.target]\"], :\n].mean()\n\nax = p3_effect.plot.bar()\nax.set_title(\"Treatment effect: Mean amplitude 250 to 400 ms\")\n_ = ax.set(ylabel=\"$\\mu$V\")"
      ]
    },
    {
      "cell_type": "markdown",
      "metadata": {},
      "source": [
        "5. Compare grid summaries for models sets and pairs.\n\n"
      ]
    },
    {
      "cell_type": "code",
      "execution_count": null,
      "metadata": {
        "collapsed": false
      },
      "outputs": [],
      "source": [
        "from fitgrid.utils import summary as fgs\n\np3_summaries = fgs.summarize(\n    p3_epochs_fg,\n    modeler=\"lm\",\n    RHS=[\"1 + stim + tone\", \"1 + stim\", \"1 + tone\", \"1\"],\n    LHS=[\"MiPf\", \"MiCe\", \"MiPa\", \"MiOc\"],\n    quiet=True,\n)\np3_summaries"
      ]
    },
    {
      "cell_type": "markdown",
      "metadata": {},
      "source": [
        "Compare models on Akiake's information criterion (AIC) as\nthe difference between the model's AIC and the\nlowest in the set.  Larger AIC differences indicate relatively\nless support for the model in comparison with the alternative(s).\n\n"
      ]
    },
    {
      "cell_type": "code",
      "execution_count": null,
      "metadata": {
        "collapsed": false
      },
      "outputs": [],
      "source": [
        "fig, axs = fgs.plot_AICmin_deltas(p3_summaries)\nfor axi in axs:\n    axi[0].set(ylim=(0, 30))\naxs[-1][0].set(xlabel=\"Time (ms)\", ylabel=\"$\\mathsf{AIC - AIC_{min}}$\")\nfig.tight_layout()"
      ]
    }
  ],
  "metadata": {
    "kernelspec": {
      "display_name": "Python 3",
      "language": "python",
      "name": "python3"
    },
    "language_info": {
      "codemirror_mode": {
        "name": "ipython",
        "version": 3
      },
      "file_extension": ".py",
      "mimetype": "text/x-python",
      "name": "python",
      "nbconvert_exporter": "python",
      "pygments_lexer": "ipython3",
      "version": "3.8.12"
    }
  },
  "nbformat": 4,
  "nbformat_minor": 0
}